{
 "cells": [
  {
   "cell_type": "code",
   "execution_count": 42,
   "metadata": {},
   "outputs": [],
   "source": [
    "import numpy as np\n",
    "import pandas as pd\n",
    "import matplotlib.pyplot as plt\n",
    "from datasets import load_dataset \n",
    "import re  , string\n",
    "from textacy.preprocessing.resources import (RE_EMAIL , RE_URL , RE_NUMBER ,\n",
    "                                              RE_NUMBER , RE_EMOJI , RE_SHORT_URL , RE_PHONE_NUMBER\n",
    "                                            )\n"
   ]
  },
  {
   "cell_type": "code",
   "execution_count": 3,
   "metadata": {},
   "outputs": [],
   "source": [
    "dataset = load_dataset('csebuetnlp/xlsum',  'arabic') "
   ]
  },
  {
   "cell_type": "code",
   "execution_count": 4,
   "metadata": {},
   "outputs": [
    {
     "data": {
      "text/plain": [
       "DatasetDict({\n",
       "    train: Dataset({\n",
       "        features: ['id', 'url', 'title', 'summary', 'text'],\n",
       "        num_rows: 37519\n",
       "    })\n",
       "    test: Dataset({\n",
       "        features: ['id', 'url', 'title', 'summary', 'text'],\n",
       "        num_rows: 4689\n",
       "    })\n",
       "    validation: Dataset({\n",
       "        features: ['id', 'url', 'title', 'summary', 'text'],\n",
       "        num_rows: 4689\n",
       "    })\n",
       "})"
      ]
     },
     "execution_count": 4,
     "metadata": {},
     "output_type": "execute_result"
    }
   ],
   "source": [
    "dataset"
   ]
  },
  {
   "cell_type": "code",
   "execution_count": 5,
   "metadata": {},
   "outputs": [
    {
     "data": {
      "text/plain": [
       "{'id': '140323_russian_troops_crimea_naval_base',\n",
       " 'url': 'https://www.bbc.com/arabic/worldnews/2014/03/140323_russian_troops_crimea_naval_base',\n",
       " 'title': 'القوات الأوكرانية تبدأ الانسحاب من القرم',\n",
       " 'summary': 'بدأت القوات الأوكرانية الانسحاب من شبه جزيرة القرم.',\n",
       " 'text': 'وكان الرئيس الأوكراني المؤقت، الكسندر تورتشينوف، قد أمر بسحب جميع القوات الأوكرانية من القرم. وسيطرت قوات روسية صباح الاثنين على قاعدة بحرية أوكرانية في فيودوسيا، في ثالث هجوم من نوعه خلال 48 ساعة، وذلك بحسب تصريحات مسؤولين أوكرانيين لبي بي سي . وقال المتحدث باسم وزارة الدفاع الأوكرانية فلاديسلاف سيليزنيوف إن القوات الروسية هاجمت القاعدة وألقت القبض على الجنود الأوكرانيين في قاعدة فيودوسيا وقيدت أيادي ضباطهم. ومن المتوقع أن تسيطر الأزمة الأوكرانية على قمة مجموعة الدول الصناعية السبع في لاهاي. مواضيع قد تهمك نهاية وأكد الرئيس الأمريكي باراك أوباما خلال لقاء مع نظيره الصيني شى جين بينغ على أن \"واشنطن وبكين يمكنهما، بالعمل سويا، تعزيز القانون الدولي واحترام سيادة الدول\". وتسيطر قوات روسية حاليا على معظم القواعد العسكرية الأوكرانية في القرم التي أعلنت موسكو ضمها للاتحاد الروسي بعد استفتاء أجرته السلطات المحلية هناك. قلق بالغ وقال مارك لوين، مراسل بي بي سي في القرم، إن القوات الروسية تسيطر بشكل كامل على القاعدة، ونقلت الجنود الأوكرانيين بعيدا إلى مكان مجهول. وتعد قاعدة فيودوسيا واحدة من آخر القواعد العسكرية التي بقيت تحت سيطرة كييف، لكن قوات روسية ظلت تحاصرها لبعض الوقت، حسبما أفاد مراسلنا. واقتحمت القوات الروسية قاعدتين أخريين وسيطرت عليهما يوم الجمعة. وكان مسؤولون عسكريون روس أعلنوا في وقت سابق أن العلم الروسي أصبح يرفرف على 189 وحدة ومنشأة عسكرية أوكرانية في القرم. وقال ديفيد ستيرن مراسل بي بي سي في كييف إن الأوكرانيين يتابعون هذه التطورات بقلق بالغ. وأشار إلى أن السؤال الذي يدور الآن هو ماذا سيكون رد فعل أوكرانيا والغرب وما هي الخطوة الروسية المقبلة. وحذر قائد الناتو في أوروبا يوم الأحد من أن القوات الروسية المنتشرة على الحدود الشرقية لأوكرانيا قادرة على شن عملية تمتد حتى مولدوفا. قمة الدول الصناعية الكبرى أوباما: العقوبات الغربية على موسكو ستؤثر على الاقتصاد الروسي. ويلقي ضم روسيا لمنطقة القرم بظلاله على قمة مجموعة السبع، التي كان مزمعا عقدها منذ فترة طويلة، بشأن تهديدات الأمن النووي. ومن المتوقع أن يبحث زعماء المجموعة موقفا موحدا حيال الأزمة. وأكد الرئيس الأمريكي على أن أوروبا والولايات المتحدة متفقون على دعم الحكومة الأوكرانية وشعبها، مشيرا إلى أن العقوبات التي فرضت على موسكو ستؤثر على الاقتصاد الروسي. ومن المقرر أن يلتقي وزير الخارجية الأمريكي، جون كيري، مع نظيره الروسي، سيرغي لافروف، على هامش قمة مجموعة السبع. انقطاع الكهرباء من جهة أخرى، شكا سكان محليون في بعض مناطق القرم من انقطاع الكهرباء في وقت متأخر من الأحد. ولف الظلام العديد من المدن من بينها بعض أحياء العاصمة سيمفربول. وقالت شركة توريد الكهرباء في القرم \"كريمنيرغو\" في بيان بث على موقعها الإلكتروني إن عطلا فنيا أصاب أحد الخطوط التي تديرها شركة الكهرباء الوطنية الأوكرانية \"اوكرينيرغو\". ولم يتسن الحصول على تعليق من اوكرينيرغو، ولم يصدر أيضا تأكيد مستقل حول سبب انقطاع الكهرباء. ضم القرم وضمت روسيا القرم إليها عقب استفتاء أجري في المنطقة في 16 مارس/آذار. وجاءت الخطوة الروسية بعد أن أطاحت احتجاجات بالرئيس الأوكراني السابق الموالي لروسيا فيكتور يانوكوفيتش. وأكدت روسيا أنها تحركت لحماية مواطني القرم المتحدرين من أصول روسية ضد من وصفتهم \"بالفاشيين\" الذين انتقلوا إليها من البلد الأم أوكرانيا. وردت الولايات المتحدة والاتحاد الأوروبي بفرض سلسلة من العقوبات ضد أفراد من بينهم مسؤولون بارزون اتهمتهم واشنطن وبروكسل بلعب دور في ضم القرم. موالون لروسيا يتظاهرون في مدينة مدينة دونيتسك، شرقي أوكرانيا. تسيطر قوات روسية حاليا على معظم القواعد العسكرية الأوكرانية في القرم.'}"
      ]
     },
     "execution_count": 5,
     "metadata": {},
     "output_type": "execute_result"
    }
   ],
   "source": [
    "dataset['train'][0]"
   ]
  },
  {
   "cell_type": "code",
   "execution_count": 6,
   "metadata": {},
   "outputs": [],
   "source": [
    "dataset = dataset.remove_columns(['id', 'url', 'title'])"
   ]
  },
  {
   "cell_type": "code",
   "execution_count": 7,
   "metadata": {},
   "outputs": [
    {
     "data": {
      "text/plain": [
       "{'summary': 'بدأت القوات الأوكرانية الانسحاب من شبه جزيرة القرم.',\n",
       " 'text': 'وكان الرئيس الأوكراني المؤقت، الكسندر تورتشينوف، قد أمر بسحب جميع القوات الأوكرانية من القرم. وسيطرت قوات روسية صباح الاثنين على قاعدة بحرية أوكرانية في فيودوسيا، في ثالث هجوم من نوعه خلال 48 ساعة، وذلك بحسب تصريحات مسؤولين أوكرانيين لبي بي سي . وقال المتحدث باسم وزارة الدفاع الأوكرانية فلاديسلاف سيليزنيوف إن القوات الروسية هاجمت القاعدة وألقت القبض على الجنود الأوكرانيين في قاعدة فيودوسيا وقيدت أيادي ضباطهم. ومن المتوقع أن تسيطر الأزمة الأوكرانية على قمة مجموعة الدول الصناعية السبع في لاهاي. مواضيع قد تهمك نهاية وأكد الرئيس الأمريكي باراك أوباما خلال لقاء مع نظيره الصيني شى جين بينغ على أن \"واشنطن وبكين يمكنهما، بالعمل سويا، تعزيز القانون الدولي واحترام سيادة الدول\". وتسيطر قوات روسية حاليا على معظم القواعد العسكرية الأوكرانية في القرم التي أعلنت موسكو ضمها للاتحاد الروسي بعد استفتاء أجرته السلطات المحلية هناك. قلق بالغ وقال مارك لوين، مراسل بي بي سي في القرم، إن القوات الروسية تسيطر بشكل كامل على القاعدة، ونقلت الجنود الأوكرانيين بعيدا إلى مكان مجهول. وتعد قاعدة فيودوسيا واحدة من آخر القواعد العسكرية التي بقيت تحت سيطرة كييف، لكن قوات روسية ظلت تحاصرها لبعض الوقت، حسبما أفاد مراسلنا. واقتحمت القوات الروسية قاعدتين أخريين وسيطرت عليهما يوم الجمعة. وكان مسؤولون عسكريون روس أعلنوا في وقت سابق أن العلم الروسي أصبح يرفرف على 189 وحدة ومنشأة عسكرية أوكرانية في القرم. وقال ديفيد ستيرن مراسل بي بي سي في كييف إن الأوكرانيين يتابعون هذه التطورات بقلق بالغ. وأشار إلى أن السؤال الذي يدور الآن هو ماذا سيكون رد فعل أوكرانيا والغرب وما هي الخطوة الروسية المقبلة. وحذر قائد الناتو في أوروبا يوم الأحد من أن القوات الروسية المنتشرة على الحدود الشرقية لأوكرانيا قادرة على شن عملية تمتد حتى مولدوفا. قمة الدول الصناعية الكبرى أوباما: العقوبات الغربية على موسكو ستؤثر على الاقتصاد الروسي. ويلقي ضم روسيا لمنطقة القرم بظلاله على قمة مجموعة السبع، التي كان مزمعا عقدها منذ فترة طويلة، بشأن تهديدات الأمن النووي. ومن المتوقع أن يبحث زعماء المجموعة موقفا موحدا حيال الأزمة. وأكد الرئيس الأمريكي على أن أوروبا والولايات المتحدة متفقون على دعم الحكومة الأوكرانية وشعبها، مشيرا إلى أن العقوبات التي فرضت على موسكو ستؤثر على الاقتصاد الروسي. ومن المقرر أن يلتقي وزير الخارجية الأمريكي، جون كيري، مع نظيره الروسي، سيرغي لافروف، على هامش قمة مجموعة السبع. انقطاع الكهرباء من جهة أخرى، شكا سكان محليون في بعض مناطق القرم من انقطاع الكهرباء في وقت متأخر من الأحد. ولف الظلام العديد من المدن من بينها بعض أحياء العاصمة سيمفربول. وقالت شركة توريد الكهرباء في القرم \"كريمنيرغو\" في بيان بث على موقعها الإلكتروني إن عطلا فنيا أصاب أحد الخطوط التي تديرها شركة الكهرباء الوطنية الأوكرانية \"اوكرينيرغو\". ولم يتسن الحصول على تعليق من اوكرينيرغو، ولم يصدر أيضا تأكيد مستقل حول سبب انقطاع الكهرباء. ضم القرم وضمت روسيا القرم إليها عقب استفتاء أجري في المنطقة في 16 مارس/آذار. وجاءت الخطوة الروسية بعد أن أطاحت احتجاجات بالرئيس الأوكراني السابق الموالي لروسيا فيكتور يانوكوفيتش. وأكدت روسيا أنها تحركت لحماية مواطني القرم المتحدرين من أصول روسية ضد من وصفتهم \"بالفاشيين\" الذين انتقلوا إليها من البلد الأم أوكرانيا. وردت الولايات المتحدة والاتحاد الأوروبي بفرض سلسلة من العقوبات ضد أفراد من بينهم مسؤولون بارزون اتهمتهم واشنطن وبروكسل بلعب دور في ضم القرم. موالون لروسيا يتظاهرون في مدينة مدينة دونيتسك، شرقي أوكرانيا. تسيطر قوات روسية حاليا على معظم القواعد العسكرية الأوكرانية في القرم.'}"
      ]
     },
     "execution_count": 7,
     "metadata": {},
     "output_type": "execute_result"
    }
   ],
   "source": [
    "dataset['train'][0]"
   ]
  },
  {
   "cell_type": "code",
   "execution_count": 8,
   "metadata": {},
   "outputs": [
    {
     "data": {
      "text/plain": [
       "dict_items([('train', Dataset({\n",
       "    features: ['summary', 'text'],\n",
       "    num_rows: 37519\n",
       "})), ('test', Dataset({\n",
       "    features: ['summary', 'text'],\n",
       "    num_rows: 4689\n",
       "})), ('validation', Dataset({\n",
       "    features: ['summary', 'text'],\n",
       "    num_rows: 4689\n",
       "}))])"
      ]
     },
     "execution_count": 8,
     "metadata": {},
     "output_type": "execute_result"
    }
   ],
   "source": [
    "dataset.items()"
   ]
  },
  {
   "cell_type": "code",
   "execution_count": 9,
   "metadata": {},
   "outputs": [],
   "source": [
    "def get_senetences_lenght(dataset , column_name , split):\n",
    "   \n",
    "    split = dataset[split][column_name]\n",
    "    \n",
    "    res = [len(x.split()) for x in split ]\n",
    "    \n",
    "    return res\n",
    "    \n",
    "        "
   ]
  },
  {
   "cell_type": "code",
   "execution_count": 10,
   "metadata": {},
   "outputs": [],
   "source": [
    "splits = ['train', 'validation', 'test']"
   ]
  },
  {
   "cell_type": "code",
   "execution_count": 11,
   "metadata": {},
   "outputs": [],
   "source": [
    "text_lengths = {}\n",
    "for split in splits:\n",
    "    text_lengths[split] = get_senetences_lenght(dataset , 'text' , split)"
   ]
  },
  {
   "cell_type": "code",
   "execution_count": 12,
   "metadata": {},
   "outputs": [],
   "source": [
    "summary_lengths = {}\n",
    "for split in splits:\n",
    "    summary_lengths[split] = get_senetences_lenght(dataset , 'summary' , split)"
   ]
  },
  {
   "cell_type": "code",
   "execution_count": null,
   "metadata": {},
   "outputs": [],
   "source": []
  },
  {
   "cell_type": "code",
   "execution_count": 13,
   "metadata": {},
   "outputs": [
    {
     "data": {
      "image/png": "[encoded data removed]",
      "text/plain": [
       "<Figure size 2000x500 with 3 Axes>"
      ]
     },
     "metadata": {},
     "output_type": "display_data"
    }
   ],
   "source": [
    "#visualize text lenghts \n",
    "\n",
    "fig , axes = plt.subplots(1 , 3 , figsize = (20 , 5))\n",
    "\n",
    "for ax , split in zip(axes.flatten() ,splits) :\n",
    "    ax.hist(np.array(text_lengths[split]))\n",
    "    ax.set_title(f'lengths of {split} texts')\n",
    "    ax.legend(f'min: {min(text_lengths[split])}, max:{max(text_lengths[split])} , avg: {sum(text_lengths[split])/len(text_lengths[split]):0.4f}')"
   ]
  },
  {
   "cell_type": "code",
   "execution_count": 14,
   "metadata": {},
   "outputs": [
    {
     "data": {
      "image/png": "[encoded data removed]",
      "text/plain": [
       "<Figure size 2000x500 with 3 Axes>"
      ]
     },
     "metadata": {},
     "output_type": "display_data"
    }
   ],
   "source": [
    "#visualize text lenghts \n",
    "\n",
    "fig , axes = plt.subplots(1 , 3 , figsize = (20 , 5))\n",
    "\n",
    "for ax , split in zip(axes.flatten() ,splits) :\n",
    "    ax.hist(np.array(summary_lengths[split]))\n",
    "    ax.set_title(f'lengths of {split} summary')\n",
    "    #ax.legend(f'min: {min(text_lengths[split])}, max:{max(text_lengths[split])} , avg: {sum(text_lengths[split])/len(text_lengths[split]):0.4f}')"
   ]
  },
  {
   "cell_type": "code",
   "execution_count": 15,
   "metadata": {},
   "outputs": [
    {
     "name": "stdout",
     "output_type": "stream",
     "text": [
      "{'summary': 'ربما يبدو الاحتفال بشيء ما، هو آخر ما يمكن أن تريد فعله حينما تمر '\n",
      "            'بأوقات عصيبة، لكن الدراسات تفيد بأن إقامتك حفلا، حتى ولو كان '\n",
      "            'صغيرا للاحتفاء بلحظة عزيزة على قلبك مهما كانت بسيطة، كفيل ببعث '\n",
      "            'السرور والبهجة في قلبك.',\n",
      " 'text': 'على درب سار عليه الكثيرون خلال عام 2020، شرعت مقدمة البرامج '\n",
      "         'التليفزيونية في الولايات المتحدة كاي لاني بالميسانو، في إعداد نوع من '\n",
      "         'الخبز يحمل اسم \"خبز العجين المخمر\". وفي أواخر يناير/كانون الثاني '\n",
      "         'الماضي، خبزت هذه السيدة البالغة من العمر 31 عاما، رغيفا مثاليا من '\n",
      "         'هذا النوع، إلى حد وجدت أن ذلك يستحق احتفالا ما. وهكذا ارتدت لاني '\n",
      "         'بالميسانو أفضل ما لديها من ملابس، والتقطت لنفسها صورة مع الرغيف ذي '\n",
      "         'الشكل الكروي، قبل أن تُقطعَّه، وتعد مجموعة من شطائر الجبن المشوي '\n",
      "         'الفاخر. وبعد ذلك صورت هذه الشطائر بدورها، ووضعت الصور جميعها على '\n",
      "         'حسابها على موقع إنستغرام. في فترة ما قبل تفشي وباء كورونا، لم تكن '\n",
      "         'بالميسانو - الحاصلة على جائزة إيمي عن تقديمها لبرنامج على إحدى '\n",
      "         'المحطات التليفزيونية المحلية في ولاية فيلادلفيا يتناول تصنيف أشهر '\n",
      "         'المطاعم في الولاية - تقضي يوما كاملا للاحتفال بإعداد أحد أنواع '\n",
      "         'المخبوزات. لكن بعد عام كامل تلاشت فيه الحفلات، على الأقل بالمعنى '\n",
      "         'التقليدي للكلمة، كانت هذه السيدة تتحرق شوقا لإقامة احتفال من أي نوع. '\n",
      "         'وتقول بالميسانو: \"لقد كانت المسألة تتعلق بالاحتفال، بتحقيقي تقدما '\n",
      "         'على صعيد إعداد خبز من العجين المخمر. لقد استغرق الأمر مني شهورا، '\n",
      "         'لتحديد كيفية التعامل مع العجين، والتعرف على المدة التي ينبغي لي أن '\n",
      "         'أترك خلالها الرغيف حتى يتخمر، ولكي أعرف أيضا على أي درجة حرارة يتعين '\n",
      "         'عليّ أن أتركه ليهدأ قبل وضعه في الفرن. كانت هذه هي كل العوامل التي '\n",
      "         'أخذت أغير وأبدل فيها. ورغم أنها كانت معقدة على نحو مفاجئ، فإنني '\n",
      "         'تمكنت أخيرا من الحصول على هذا الرغيف الفاتن\". مواضيع قد تهمك نهاية '\n",
      "         'وبالنسبة لتلك السيدة، بدا ذلك مناسبة جديرة بالاهتمام، والاحتفال بـ '\n",
      "         '\"العمل الشاق\" الذي بذلته. وتقول إن الأمر كان أشبه بـ \"حفل تخرج؛ فتلك '\n",
      "         'كانت اللحظة التي أظهرت فيها للعالم أنني مارست وتعلمت، وأصبح بوسعي '\n",
      "         'القول `ها هي النتيجة\". وبينما لا تخفي بالميسانو أنها وجدت نفسها طيلة '\n",
      "         'العام الماضي وهي تبحث عن أي لحظات ولو بسيطة، للاحتفال بها على نحو '\n",
      "         'صاخب، فإن المؤشرات تفيد بأنها ليست الوحيدة من نوعها، في هذا المضمار. '\n",
      "         'فقد كشف تقرير أعدته شبكة بنترست الأمريكية لنشر الصور بشأن توجهات '\n",
      "         'مستخدميها، أن هناك زيادة في عدد الأشخاص، الذين يقيمون \"حفلات صغيرة '\n",
      "         'أو محدودة\". كما أن خدمة \"غوغل تريندز\" أظهرت كذلك قفزة حدثت مؤخرا، في '\n",
      "         'عمليات البحث عن عبارات باللغة الإنجليزية مثل \"حفل صغير\". بجانب ذلك، '\n",
      "         'بدأ الكثير من شركات تقديم خدمات الطعام وتنظيم المناسبات، في تسويق '\n",
      "         'باقات لإقامة حفلات صغيرة. وفي بعض الحالات، يكون ذلك الحفل نسخة مصغرة '\n",
      "         'من حدث ما، لم يتسن إقامته بشكله المعتاد، بسبب القيود الخاصة بالتباعد '\n",
      "         'الاجتماعي، كحفلات الزفاف أو حفلات توزيع الهدايا بمناسبة قدوم مولود '\n",
      "         'جديد. ويتعلق الأمر في حالات أخرى، بالاحتفال بأمور بسيطة بالفعل، من '\n",
      "         'قبيل \"انتقال شريكي في السكن للعيش في مسكن جديد\"، أو \"نجاح طفلي '\n",
      "         'الصغير في الجلوس لأول مرة\". بذلت كاي لاني بالميسانو وزوجها جهدا '\n",
      "         'استثنائيا للاحتفاء باللحظات البسيطة، واعتبروا حدوثها مبررا لاحتساء '\n",
      "         'الشراب من باب الاحتفال ورغم أن الاحتفال بهذه اللحظات، التي يبدو أن '\n",
      "         'اختيارها يتم بشكل عشوائي، قد يتسم بالغرابة، خاصة بالنظر إلى الصعوبات '\n",
      "         'التي تسود حياتنا، في ظل تفشي الوباء، فإن العلماء يقولون إن إقامة '\n",
      "         'حفلات صغيرة، لا سيما عندما نكون مضطرين للبقاء بمنازلنا، يمكن أن يعود '\n",
      "         'على صحتنا العقلية بفوائد دائمة. النزوع لإقامة حفلات ويقول فريد بي '\n",
      "         'بريانت، أستاذ علم النفس الاجتماعي في جامعة لويولا بمدينة شيكاغو '\n",
      "         'الأمريكية، إن الاحتفال بشيء ما، يمثل نزعة بشرية طبيعية. ويشير '\n",
      "         'بريانت، وهو مؤلف كتاب \"تذوق الطعم عبر تناول القليل من شيء ما: نموذج '\n",
      "         'جديد للتجربة الإيجابية\"، إلى أن هذا الأمر يعود إلى \"فجر التاريخ '\n",
      "         'المسجل، باختلاف الثقافات. فقد كان هناك احتفال بالنجاح في اصطياد '\n",
      "         'حيوان الصَنَّاجة أو الماستودون (المنقرض الآن)، أو بالحصاد الوفير أو '\n",
      "         'باكتشاف (شيء جديد) أو بالحظ الحسن\". وفي معظم الأحيان، نميل إلى '\n",
      "         'اعتبار وقوع الأحداث الرئيسية التي لا تتكرر كثيرا سببا للاحتفال، مثل '\n",
      "         'التخرج والتقاعد وأعياد الميلاد والزواج. وبطبيعة الحال، لم يمنعنا '\n",
      "         'تفشي الوباء من مواصلة الاحتفال بمناسبات مثل هذه، لكنه أدى إلى أن '\n",
      "         'تتحول الوليمة، التي كان يُفترض مثلا أن تضم 100 مدعو، إلى تجمع '\n",
      "         'افتراضي، يتم عبر تطبيق زووم، ويستمر لمدة ساعة. ومع أن مواصلة '\n",
      "         'الاحتفاء بمثل هذه المناسبات لا يزال أمرا إيجابيا، وأن خبيرا مثل '\n",
      "         'بريانت يقول إن تنظيم حفل على نطاق محدود أفضل من عدم إقامته على '\n",
      "         'الإطلاق، فإن إقامة مثل هذه الحفلات، قد تكون تجربة تمتزج فيها الحلاوة '\n",
      "         'بالمرارة. ويشير بريانت في هذا الصدد إلى أن \"عقد المقارنات هو عدو '\n",
      "         'المتعة\". أو بعبارة أخرى: من الصعب للغاية أن تستمتع بشكل كامل بحفلك '\n",
      "         'الافتراضي، إذا قارنته بالحفل التقليدي، الذي كنت تخطط لإقامته من '\n",
      "         'الأصل. ويبرز ذلك إحدى الفوائد المهمة لمفهوم إقامة الحفلات الصغيرة. '\n",
      "         'فلا مقارنة هنا من الأساس؛ إذ أنك في هذه الحالة، تحتفل بشيء لم تكن '\n",
      "         'لتحتفي به أصلا، لولا اضطرارك للبقاء في المنزل، ما يقود بالتبعية '\n",
      "         'لانتفاء وجود حفل أصلي كان سيُقام، وأجبرتك الظروف الحالية على تقليصه، '\n",
      "         'بما يُشعرك بالحزن إذا ما قارنت حفلك المصغر به. بجانب ذلك، يتيح لك '\n",
      "         'الاحتفاء بأحداث بسيطة الفرصة، لتنظيم عدد أكبر من الاحتفالات. '\n",
      "         'فالأحداث الكبيرة لا تأتي سوى بضع مرات كل عام، أما الأمور الصغيرة '\n",
      "         'التي يمكننا الاحتفال بها فتوجد - كما يقول بريانت - بـ \"عدد يفوق تلك '\n",
      "         'الأمور المفصلية المهمة. فالزفاف مثلا لا يحدث لك سوى مرة في العمر، '\n",
      "         'أما الأشياء الأقل أهمية، فتحدث في كل يوم\". وبالعودة إلى كاي لاني '\n",
      "         'بالميسانو، سنجد أنها اعتادت وزوجها أن يذهبا في أوائل العام الماضي، '\n",
      "         'إلى عدد من معامل إعداد الجعة الواقعة في المنطقة التي يقطنان فيها، '\n",
      "         'وذلك في يوم السبت من كل أسبوع ولبضعة أسابيع متتالية. وفي كل مرة، '\n",
      "         'كانا يطلبان احتساء جعة شديدة التركيز، من تلك التي يُطلق عليها اسم '\n",
      "         '\"ستاوت\". وفي هذه الآونة بَدَآ يشيران مازحين إلى هذه الزيارات '\n",
      "         'الأسبوعية، باسم \"ستاوت-رداي\"، في تحوير لكلمة \"ساترداي\" (Saturday)، '\n",
      "         'أو يوم السبت باللغة الإنجليزية ومزجها بالمصطلح الذي يُطلق على الجعة '\n",
      "         'المُركزة. وفي مارس/آذار الماضي، وقبل يومين بالتحديد من عودة '\n",
      "         'بالميسانو إلى الاستوديوهات، لتصوير موسم جديد من برنامجها '\n",
      "         'التليفزيوني، بدأ سريان أولى الأوامر، التي تلزم سكان فيلادلفيا '\n",
      "         'بالبقاء في منازلهم، ما أدى إرجاء موعد بدء التصوير. وتتذكر بالميسانو '\n",
      "         'تلك اللحظات بالقول: \"شعرنا بذهول ناجم عن الارتباك والخوف. وفي يوم '\n",
      "         'ما، كنا نستلقي في غرفة زجاجية موجودة في منزلنا، نحدق في هذا المستقبل '\n",
      "         'القاتم البائس. وقتها نهض زوجي قائلا `حسنا نحن الآن في يوم الـ '\n",
      "         'ستاوت-رداي، لا بد أن لدينا قدرا من الجعة شديدة التركيز!` وقد مثلَّ '\n",
      "         'ذلك قدرا ما من البهجة، في وقت غامض بشدة\". وعلى مدار الشهور التالية '\n",
      "         'لذلك، حافظ الزوجان على هذا التقليد. ففي غالبية أيام السبت، خصصا وقتا '\n",
      "         'لاحتساء الجعة، رغم أنهما لم يحرصا على أن يتناولا طوال الوقت جعة '\n",
      "         'شديدة التركيز، بل جعلا هذا الموعد الأسبوعي، فرصة للتعرف على أنواع '\n",
      "         'جديدة من ذلك المشروب وتجربته، وتشجيع المعامل المحلية المتخصصة في '\n",
      "         'تحضيره. وتقول بالميسانو إن ذلك يساعد على كسر رتابة الأمور \"ويمنحنا '\n",
      "         'شيئا لنتطلع له\". وتقول هداسا ليتمان-عوفاديا، أستاذة علم النفس في '\n",
      "         'جامعة أرئيل الإسرائيلية، إن تنظيم الزوجيْن لحدث أسبوعي ذي طابع '\n",
      "         'احتفالي من هذا القبيل، ربما كان يشكل وسيلة يحصنان بها نفسيْهما - دون '\n",
      "         'أن يدركا ذلك - من الشعور بالضجر والقلق والاكتئاب. وفي دراسة شاركت في '\n",
      "         'إعدادها عام 2012، وجدت ليتمان-عوفاديا أن الأشخاص الذين يُعِدون '\n",
      "         'بانتظام قائمة تضم الأشياء الإيجابية لكي يتسنى لهم ترقبها، يتقلص '\n",
      "         'لديهم الشعور بالتشاؤم، وتتراجع كذلك التأثيرات السلبية ومستويات '\n",
      "         'الإرهاق العاطفي. وأظهرت الدراسة أن هذا التأثير الإيجابي يستمر لشهر '\n",
      "         'على الأقل، في بعض الحالات. أقامت جيل شيلدهاوس حفل وداع على نطاق '\n",
      "         'محدود لبساط بلون القشدة كانت تستخدمه في منزلها، وذلك بعدما مزقته '\n",
      "         'إربا واستعانت ببساط آخر بدلا منه وتقول ليتمان-عوفاديا إن بوسعنا '\n",
      "         'تطبيق هذا الأسلوب البسيط للغاية في حياتنا اليومية، حتى خلال الفترة '\n",
      "         'الراهنة، أو ربما في غمارها بشكل خاص. ولكي تجني الفوائد النفسية التي '\n",
      "         'يمكن أن تترتب على ذلك، يتعين عليك - كما يقول بريانت - أن تكون حريصا '\n",
      "         'وعازما على أن تحتفل بالفعل. فحسبما يوضح هذا الأستاذ الجامعي، تتمثل '\n",
      "         'المشكلة التي قد تعرقل الاحتفال بشيء ما، في أن هذه المشاعر المبتهجة '\n",
      "         '\"عادة ما تُنحى جانبا، بفعل أشياء سلبية أخرى\" تفرض نفسها على المرء. '\n",
      "         'ويضيف بريانت بالقول: \"ينبغي عليك التكيف مع الأمور السيئة؛ فأنت مجبر '\n",
      "         'على التعامل معها عندما تحدث. لكنك في المقابل لا تُرغَم على الاحتفال '\n",
      "         'بالأشياء الجيدة. فعندما يحدث لك شيء ما إيجابي، تنتابك الرغبة في '\n",
      "         'الحفاظ عليه وزيادة حجمه. غير أن المشكلة أنه لا يلاحقك أو يطاردك لكي '\n",
      "         'تحتفل به\". ما الذي يجعل حفلا ما جديرا بهذا الوصف؟ تجربة أخرى من '\n",
      "         'تجارب إقامة الاحتفالات الصغيرة، خاضتها الكاتبة جيل شيلدهاوس (43 '\n",
      "         'عاما)، التي تقيم في ولاية أريزونا الأمريكية. فبعد سنوات من التفكير '\n",
      "         'في تغيير بساط يكسو أرضية منزلها بالكامل، قررت هذه السيدة أخيرا '\n",
      "         'الاتفاق مع شخص متخصص في تغيير الأبسطة، وشراء 2000 قدم مربع من أرضيات '\n",
      "         'الفينيل. ونظمت الكاتبة الأربعينية مؤخرا حفل وداع للبساط القديم ذي '\n",
      "         'لون القشدة، الذي بذلت جهودا مضنية للحفاظ عليه في حالته الأصلية على '\n",
      "         'مدار السنوات الخمس عشرة الماضية. وتقول في هذا الشأن: \"أعددت فلفلا '\n",
      "         'حارا، ودعوت والديْ لتناوله في غرفة المعيشة، مع بعض كؤوس النبيذ '\n",
      "         'الأحمر\". وبالنسبة لشيلدهاوس، شكلَّ هذا الاحتفال طريقة ذات طابع مازح، '\n",
      "         'للاحتفاء بلحظة شعرت بأنها مهمة؛ إلى حد أنها وصفتها بـ \"أنها أشبه '\n",
      "         'بنهاية حقبة. فقد اشتريت هذا البساط عندما كنت شابة، حينما امتلكت '\n",
      "         'منزلا للمرة الأولى. وكان هذا البساط أول شيء لطيف بالنسبة لي كشخص '\n",
      "         'بالغ راشد. لقد عايش معي الكثير من الأحداث منذ ذلك الحين، والتخلص منه '\n",
      "         'الآن، يبدو كما لو كان حدثا مفصليا آخر في حياتي\". وتُعقّب '\n",
      "         'ليتمان-عوفاديا على ذلك بالقول إن عملية تجديد منزل ما، ربما تبدو أمرا '\n",
      "         'تافها، لكن ذلك تحديدا هو ما يجعلها تستحق الاحتفال في الوقت الحالي. '\n",
      "         'وتشير هذه الأستاذة الجامعية، إلى أننا إذا تصورنا أن حياتنا هي طاولة '\n",
      "         'عادة ما تغطيها كل المناسبات والالتزامات التي يتعين علينا الوفاء بها '\n",
      "         'خلالها، فيمكننا القول إن هذه الطاولة الآن لا تعج - بسبب الوباء - بكل '\n",
      "         'ما كنا نعتاد رؤيته عليها، وبجميع الأشياء التي ينبغي علينا القيام بها '\n",
      "         'في الظروف العادية. لكن \"خلو الطاولة تقريبا على هذه الشاكلة، يجعلك '\n",
      "         'بوسعك أن ترى تفاصيل الأشياء التي لا تزال موجودة، بشكل أوضح بكثير. '\n",
      "         'سيصبح بمقدورك أن تلاحظ الأشياء، التي كانت توجد في خلفية المشهد من '\n",
      "         'قبل، ما كان يجعلها لا تُرصد\". على أي حال، لا يتطلب تنظيم حفل صغير '\n",
      "         'الكثير من الجهود من جانب القائمين عليه. فحسبما يقول بريانت، أصبح '\n",
      "         'تمزيق شيلدهاوس لبساطها القديم مثلا بمثابة حفل. كما أن شطائر الجبن '\n",
      "         'المشوي التي أعدتها بالميسانو، مثلَّت حفلا آخر بدوره، مثلها مثل '\n",
      "         'احتفاء هذه السيدة وزوجها، بطقس الـ \"ستاوت-رداي\". ويقول بريانت إن '\n",
      "         'المرء يُخلِّد هذه الأحداث، ويخلق ذكريات مرتبطة بها، عبر \"التقاطه '\n",
      "         'صورا، وجمعه تذكارات من شأنها جعل هذا الحدث أو ذاك، لحظة مهمة تستحق '\n",
      "         'أن تُحفظ في الذاكرة\". من جهة أخرى، ينبغي علينا الآن مواصلة إيجاد '\n",
      "         'أسباب للفرح، من أجل صالح صحتنا العقلية من جهة، ولأن الشعور بالسعادة '\n",
      "         'والابتهاج يشكل طبيعة بشرية من جهة أخرى، وذلك في ضوء أنه بات من '\n",
      "         'العسير أن نحدد الموعد، الذي سيصبح بوسعنا فيه، العودة لأن نقيم بأمان '\n",
      "         'حفلاتنا على الشاكلة التي اعتدناها؛ أي أن يحتشد العشرات من الأشخاص في '\n",
      "         'مكان واحد، ويتسنى لهم تناول المأكولات والمشروبات وتبادل الضحكات دون '\n",
      "         'قيود. ويرى بريانت أنه لا يزال هناك الكثير مما يمكن أن نحتفل به، حتى '\n",
      "         'وإن كان الأمر يتعلق بأشياء غاية في الضآلة والبساطة. ويضيف قائلا: \"من '\n",
      "         'قصر النظر، أن نعتقد أن كل ما نحتاج لفعله في الوقت الحاضر، هو التكيف '\n",
      "         'والتعامل مع الوباء. ففن التعايش مع الحياة في ظل تفشٍ وبائي، يتمثل في '\n",
      "         'أن يظل بوسعك أن ترى الأشياء الرائعة التي توجد دائما (حولنا). الآن '\n",
      "         'يتوق الناس، لكل الأشياء المعتادة، التي طالما اعتقدوا أن وجودها مسلم '\n",
      "         'به\". ويخلص بريانت إلى القول: \"نحن نريد فرصة ثانية (للتعامل مع) كل '\n",
      "         'هذه النِعَم، التي جرفها الوباء في طريقه. لذا ضع النِعَم التي تفتقدها '\n",
      "         'الآن في اعتبارك، لتشكل دافعا لك، لكي تبحث عما لا زلت تحظى به منها، '\n",
      "         'وتحتفل بها كذلك\". يمكنك قراءة الموضوع الأصلي على BBC Worklife'}\n"
     ]
    }
   ],
   "source": [
    "#do some verification in our data \n",
    "from pprint import pprint\n",
    "index = 120\n",
    "sample = dataset['train'][index]\n",
    "pprint(sample)"
   ]
  },
  {
   "cell_type": "code",
   "execution_count": 16,
   "metadata": {},
   "outputs": [],
   "source": [
    "NON_ARABIC_RE = re.compile(r\"[%s]\"%string.ascii_letters)"
   ]
  },
  {
   "cell_type": "code",
   "execution_count": 18,
   "metadata": {},
   "outputs": [],
   "source": [
    "def do_data_verification(dataset , split ):\n",
    "    split = dataset[split]\n",
    "    \n",
    "    for column in ['text' , 'summary']:\n",
    "        print(f'according to {column} ')\n",
    "        is_there_email = any([bool(re.findall(RE_EMAIL , text)) for text in split[column]])\n",
    "        is_there_url = any([bool(re.findall(RE_URL , text)) for text in split[column]])\n",
    "        is_there_emoji = any([bool(re.findall(RE_EMOJI , text)) for text in split[column]])\n",
    "        is_there_short_url = any([bool(re.findall(RE_SHORT_URL , text)) for text in split[column]])\n",
    "        is_there_number = any([bool(re.findall(RE_NUMBER , text)) for text in split[column]])\n",
    "        is_there_phone_number = any([bool(re.findall(RE_PHONE_NUMBER , text)) for text in split[column]])\n",
    "        is_there_english_letters = any(bool(re.findall(NON_ARABIC_RE , text)) for text in split[column])\n",
    "        print('is there email ? ' , is_there_email)\n",
    "        print('is there url ? ' , is_there_url)\n",
    "        print('is there emoji ? ' , is_there_emoji)\n",
    "        print('is there short url ? ' , is_there_short_url)\n",
    "        print('is there number  ? ' , is_there_number)\n",
    "        print('is there phone number ? ' , is_there_phone_number)\n",
    "        print(\"is there non arabic letters (especially english words) ? \" , is_there_english_letters)\n",
    "        print(\"=======\"*20)"
   ]
  },
  {
   "cell_type": "code",
   "execution_count": 19,
   "metadata": {},
   "outputs": [
    {
     "name": "stdout",
     "output_type": "stream",
     "text": [
      "according to text \n",
      "is there email ?  True\n",
      "is there url ?  True\n",
      "is there emoji ?  True\n",
      "is there short url ?  True\n",
      "is there number  ?  True\n",
      "is there phone number ?  True\n",
      "is there non arabic letters (especially english words) ?  True\n",
      "============================================================================================================================================\n",
      "according to summary \n",
      "is there email ?  False\n",
      "is there url ?  False\n",
      "is there emoji ?  False\n",
      "is there short url ?  False\n",
      "is there number  ?  True\n",
      "is there phone number ?  True\n",
      "is there non arabic letters (especially english words) ?  True\n",
      "============================================================================================================================================\n"
     ]
    }
   ],
   "source": [
    "do_data_verification(dataset , 'train')"
   ]
  },
  {
   "cell_type": "code",
   "execution_count": 20,
   "metadata": {},
   "outputs": [],
   "source": [
    "def remove_patterns(patterns , column):\n",
    "    def clean(sample):\n",
    "        text = sample[column]\n",
    "        for pattern in patterns:\n",
    "            text = re.sub(pattern ,\"\" , text)\n",
    "        return {column : text}\n",
    "            \n",
    "    return clean"
   ]
  },
  {
   "cell_type": "code",
   "execution_count": 21,
   "metadata": {},
   "outputs": [
    {
     "data": {
      "application/vnd.jupyter.widget-view+json": {
       "model_id": "f3601e8c4ea24302af5112940bf1c7e8",
       "version_major": 2,
       "version_minor": 0
      },
      "text/plain": [
       "Map:   0%|          | 0/37519 [00:00<?, ? examples/s]"
      ]
     },
     "metadata": {},
     "output_type": "display_data"
    },
    {
     "data": {
      "application/vnd.jupyter.widget-view+json": {
       "model_id": "bd0df11d3f464b68bc97c15d31260933",
       "version_major": 2,
       "version_minor": 0
      },
      "text/plain": [
       "Map:   0%|          | 0/37519 [00:00<?, ? examples/s]"
      ]
     },
     "metadata": {},
     "output_type": "display_data"
    }
   ],
   "source": [
    "dataset['train'] = dataset['train'].map(remove_patterns(patterns=[RE_EMAIL , RE_EMOJI ,  RE_PHONE_NUMBER , RE_NUMBER, RE_SHORT_URL, NON_ARABIC_RE , RE_URL , r\"\\d+\"] , \n",
    "                                                        column='text' ), batched=False)\n",
    "dataset['train'] =  dataset['train'].map(remove_patterns(patterns=[ RE_PHONE_NUMBER , RE_NUMBER, NON_ARABIC_RE , r\"\\d+\"] , \n",
    "                                                        column='summary' ), batched=False)"
   ]
  },
  {
   "cell_type": "code",
   "execution_count": 22,
   "metadata": {},
   "outputs": [
    {
     "name": "stdout",
     "output_type": "stream",
     "text": [
      "according validation\n",
      "according to text \n",
      "is there email ?  True\n",
      "is there url ?  True\n",
      "is there emoji ?  True\n",
      "is there short url ?  True\n",
      "is there number  ?  True\n",
      "is there phone number ?  True\n",
      "is there non arabic letters (especially english words) ?  True\n",
      "============================================================================================================================================\n",
      "according to summary \n",
      "is there email ?  False\n",
      "is there url ?  False\n",
      "is there emoji ?  False\n",
      "is there short url ?  False\n",
      "is there number  ?  True\n",
      "is there phone number ?  False\n",
      "is there non arabic letters (especially english words) ?  True\n",
      "============================================================================================================================================\n"
     ]
    }
   ],
   "source": [
    "print(\"according validation\")\n",
    "do_data_verification(dataset , 'validation')"
   ]
  },
  {
   "cell_type": "code",
   "execution_count": 23,
   "metadata": {},
   "outputs": [
    {
     "data": {
      "application/vnd.jupyter.widget-view+json": {
       "model_id": "405e02c910dc4c78b1caa410c3ef56ac",
       "version_major": 2,
       "version_minor": 0
      },
      "text/plain": [
       "Map:   0%|          | 0/4689 [00:00<?, ? examples/s]"
      ]
     },
     "metadata": {},
     "output_type": "display_data"
    },
    {
     "data": {
      "application/vnd.jupyter.widget-view+json": {
       "model_id": "983d89df40a64a95ae596b9a55e07f06",
       "version_major": 2,
       "version_minor": 0
      },
      "text/plain": [
       "Map:   0%|          | 0/4689 [00:00<?, ? examples/s]"
      ]
     },
     "metadata": {},
     "output_type": "display_data"
    }
   ],
   "source": [
    "dataset['validation'] = dataset['validation'].map(remove_patterns(patterns=[RE_EMAIL , RE_EMOJI , RE_NUMBER, RE_PHONE_NUMBER , RE_SHORT_URL, NON_ARABIC_RE, RE_URL, r\"\\d+\"] , \n",
    "                                                        column='text' ), batched=False)\n",
    "dataset['validation'] =  dataset['validation'].map(remove_patterns(patterns=[RE_NUMBER , NON_ARABIC_RE , r\"\\d+\"] , \n",
    "                                                        column='summary' ), batched=False)"
   ]
  },
  {
   "cell_type": "code",
   "execution_count": 24,
   "metadata": {},
   "outputs": [
    {
     "name": "stdout",
     "output_type": "stream",
     "text": [
      "according test\n",
      "according to text \n",
      "is there email ?  True\n",
      "is there url ?  True\n",
      "is there emoji ?  False\n",
      "is there short url ?  True\n",
      "is there number  ?  True\n",
      "is there phone number ?  True\n",
      "is there non arabic letters (especially english words) ?  True\n",
      "============================================================================================================================================\n",
      "according to summary \n",
      "is there email ?  False\n",
      "is there url ?  False\n",
      "is there emoji ?  False\n",
      "is there short url ?  False\n",
      "is there number  ?  True\n",
      "is there phone number ?  True\n",
      "is there non arabic letters (especially english words) ?  True\n",
      "============================================================================================================================================\n"
     ]
    }
   ],
   "source": [
    "print(\"according test\")\n",
    "do_data_verification(dataset , 'test')"
   ]
  },
  {
   "cell_type": "code",
   "execution_count": 25,
   "metadata": {},
   "outputs": [
    {
     "data": {
      "application/vnd.jupyter.widget-view+json": {
       "model_id": "6383ca31668a485ebeda9ad488cc5e45",
       "version_major": 2,
       "version_minor": 0
      },
      "text/plain": [
       "Map:   0%|          | 0/4689 [00:00<?, ? examples/s]"
      ]
     },
     "metadata": {},
     "output_type": "display_data"
    },
    {
     "data": {
      "application/vnd.jupyter.widget-view+json": {
       "model_id": "de6836a9f43a4decad105e62a4ba2b1b",
       "version_major": 2,
       "version_minor": 0
      },
      "text/plain": [
       "Map:   0%|          | 0/4689 [00:00<?, ? examples/s]"
      ]
     },
     "metadata": {},
     "output_type": "display_data"
    }
   ],
   "source": [
    "dataset['test'] = dataset['test'].map(remove_patterns(patterns=[RE_EMAIL  , RE_NUMBER, RE_PHONE_NUMBER , RE_SHORT_URL, NON_ARABIC_RE, r\"\\d+\"] , \n",
    "                                                        column='text' ), batched=False)\n",
    "dataset['test'] =  dataset['test'].map(remove_patterns(patterns=[RE_NUMBER, RE_PHONE_NUMBER , NON_ARABIC_RE, r\"\\d+\"] , \n",
    "                                                        column='summary' ), batched=False)"
   ]
  },
  {
   "cell_type": "code",
   "execution_count": 26,
   "metadata": {},
   "outputs": [],
   "source": [
    "#viusalize sentences length again \n",
    "text_lengths = {}\n",
    "for split in splits:\n",
    "    text_lengths[split] = get_senetences_lenght(dataset , 'text' , split)"
   ]
  },
  {
   "cell_type": "code",
   "execution_count": 27,
   "metadata": {},
   "outputs": [],
   "source": [
    "summary_lengths = {}\n",
    "for split in splits:\n",
    "    summary_lengths[split] = get_senetences_lenght(dataset , 'summary' , split)"
   ]
  },
  {
   "cell_type": "code",
   "execution_count": 28,
   "metadata": {},
   "outputs": [
    {
     "data": {
      "image/png": "[encoded data removed]",
      "text/plain": [
       "<Figure size 2000x500 with 3 Axes>"
      ]
     },
     "metadata": {},
     "output_type": "display_data"
    }
   ],
   "source": [
    "#visualize text lenghts \n",
    "\n",
    "fig , axes = plt.subplots(1 , 3 , figsize = (20 , 5))\n",
    "\n",
    "for ax , split in zip(axes.flatten() ,splits) :\n",
    "    ax.hist(np.array(text_lengths[split]))\n",
    "    ax.set_title(f'lengths of {split} texts')\n",
    "    #ax.legend(f'min: {min(text_lengths[split])}, max:{max(text_lengths[split])} , avg: {sum(text_lengths[split])/len(text_lengths[split]):0.4f}')"
   ]
  },
  {
   "cell_type": "code",
   "execution_count": 29,
   "metadata": {},
   "outputs": [
    {
     "data": {
      "image/png": "[encoded data removed]",
      "text/plain": [
       "<Figure size 2000x500 with 3 Axes>"
      ]
     },
     "metadata": {},
     "output_type": "display_data"
    }
   ],
   "source": [
    "#visualize text lenghts \n",
    "\n",
    "fig , axes = plt.subplots(1 , 3 , figsize = (20 , 5))\n",
    "\n",
    "for ax , split in zip(axes.flatten() ,splits) :\n",
    "    ax.hist(np.array(summary_lengths[split]))\n",
    "    ax.set_title(f'lengths of {split} summary')\n",
    "    #ax.legend(f'min: {min(text_lengths[split])}, max:{max(text_lengths[split])} , avg: {sum(text_lengths[split])/len(text_lengths[split]):0.4f}')"
   ]
  },
  {
   "cell_type": "code",
   "execution_count": 33,
   "metadata": {},
   "outputs": [
    {
     "data": {
      "application/vnd.jupyter.widget-view+json": {
       "model_id": "bdc04403cfbb43fc9e7f3c0ef0afb616",
       "version_major": 2,
       "version_minor": 0
      },
      "text/plain": [
       "Filter:   0%|          | 0/34813 [00:00<?, ? examples/s]"
      ]
     },
     "metadata": {},
     "output_type": "display_data"
    },
    {
     "data": {
      "application/vnd.jupyter.widget-view+json": {
       "model_id": "4baf26bbdb674fa4b1a912da6c395151",
       "version_major": 2,
       "version_minor": 0
      },
      "text/plain": [
       "Filter:   0%|          | 0/4617 [00:00<?, ? examples/s]"
      ]
     },
     "metadata": {},
     "output_type": "display_data"
    },
    {
     "data": {
      "application/vnd.jupyter.widget-view+json": {
       "model_id": "e760be05a4194e7a80642e2bae1f6358",
       "version_major": 2,
       "version_minor": 0
      },
      "text/plain": [
       "Filter:   0%|          | 0/4619 [00:00<?, ? examples/s]"
      ]
     },
     "metadata": {},
     "output_type": "display_data"
    }
   ],
   "source": [
    "#filter lengthes \n",
    "max_text_length = 1024\n",
    "max_summary_length = 40\n",
    "dataset = dataset.filter(lambda x : len(x['text'].split()) < max_text_length )\n",
    "dataset = dataset.filter(lambda x : len(x['summary'].split()) < max_summary_length)"
   ]
  },
  {
   "cell_type": "code",
   "execution_count": 34,
   "metadata": {},
   "outputs": [
    {
     "data": {
      "application/vnd.jupyter.widget-view+json": {
       "model_id": "d78b25cb00c2404681895a530588e9c3",
       "version_major": 2,
       "version_minor": 0
      },
      "text/plain": [
       "Saving the dataset (0/1 shards):   0%|          | 0/32877 [00:00<?, ? examples/s]"
      ]
     },
     "metadata": {},
     "output_type": "display_data"
    },
    {
     "data": {
      "application/vnd.jupyter.widget-view+json": {
       "model_id": "589eb487eda64bc88d567ccd8df737db",
       "version_major": 2,
       "version_minor": 0
      },
      "text/plain": [
       "Saving the dataset (0/1 shards):   0%|          | 0/4547 [00:00<?, ? examples/s]"
      ]
     },
     "metadata": {},
     "output_type": "display_data"
    },
    {
     "data": {
      "application/vnd.jupyter.widget-view+json": {
       "model_id": "5d48c888dc8e424fa4f3bfe4f7af0370",
       "version_major": 2,
       "version_minor": 0
      },
      "text/plain": [
       "Saving the dataset (0/1 shards):   0%|          | 0/4559 [00:00<?, ? examples/s]"
      ]
     },
     "metadata": {},
     "output_type": "display_data"
    }
   ],
   "source": [
    "dataset.save_to_disk(\"../datasets/cleaned_xlsum_arabic\")"
   ]
  },
  {
   "cell_type": "code",
   "execution_count": 37,
   "metadata": {},
   "outputs": [
    {
     "name": "stdout",
     "output_type": "stream",
     "text": [
      "f:\\Advanced-Text-Summarization-for-Arabic-A-Comparative-Study-of-Abstractive-and-Extractive-Techniques\n"
     ]
    }
   ],
   "source": [
    "import os\n",
    "os.chdir(\"..\")\n",
    "print(os.getcwd())"
   ]
  },
  {
   "cell_type": "code",
   "execution_count": null,
   "metadata": {},
   "outputs": [],
   "source": []
  },
  {
   "cell_type": "code",
   "execution_count": 38,
   "metadata": {},
   "outputs": [
    {
     "name": "stdout",
     "output_type": "stream",
     "text": [
      "\u001b[1m============================= test session starts =============================\u001b[0m\n",
      "platform win32 -- Python 3.10.13, pytest-7.1.2, pluggy-1.0.0\n",
      "rootdir: f:\\Advanced-Text-Summarization-for-Arabic-A-Comparative-Study-of-Abstractive-and-Extractive-Techniques\n",
      "plugins: anyio-3.7.1\n",
      "collected 7 items\n",
      "\n",
      "tests\\data_validation_test.py \u001b[32m.\u001b[0m\u001b[32m.\u001b[0m\u001b[32m.\u001b[0m\u001b[32m.\u001b[0m\u001b[32m.\u001b[0m\u001b[32m.\u001b[0m\u001b[32m.\u001b[0m\u001b[33m                                    [100%]\u001b[0m\n",
      "\n",
      "\u001b[33m============================== warnings summary ===============================\u001b[0m\n",
      "C:\\Users\\oscar\\AppData\\Roaming\\Python\\Python310\\site-packages\\pandas\\core\\arrays\\masked.py:60\n",
      "  C:\\Users\\oscar\\AppData\\Roaming\\Python\\Python310\\site-packages\\pandas\\core\\arrays\\masked.py:60: UserWarning: Pandas requires version '1.3.6' or newer of 'bottleneck' (version '1.3.5' currently installed).\n",
      "    from pandas.core import (\n",
      "\n",
      "C:\\Users\\oscar\\anaconda3\\lib\\site-packages\\torch\\cuda\\__init__.py:651\n",
      "  C:\\Users\\oscar\\anaconda3\\lib\\site-packages\\torch\\cuda\\__init__.py:651: UserWarning: CUDA initialization: The NVIDIA driver on your system is too old (found version 9000). Please update your GPU driver by downloading and installing a new version from the URL: http://www.nvidia.com/Download/index.aspx Alternatively, go to: https://pytorch.org to install a PyTorch version that has been compiled with your version of the CUDA driver. (Triggered internally at ..\\c10\\cuda\\CUDAFunctions.cpp:109.)\n",
      "    return torch._C._cuda_getDeviceCount() if nvml_count < 0 else nvml_count\n",
      "\n",
      "-- Docs: https://docs.pytest.org/en/stable/how-to/capture-warnings.html\n",
      "\u001b[33m================== \u001b[32m7 passed\u001b[0m, \u001b[33m\u001b[1m2 warnings\u001b[0m\u001b[33m in 124.10s (0:02:04)\u001b[0m\u001b[33m ==================\u001b[0m\n"
     ]
    }
   ],
   "source": [
    "#make data validation testing \n",
    "!pytest ./tests/data_validation_test.py"
   ]
  },
  {
   "cell_type": "code",
   "execution_count": 39,
   "metadata": {},
   "outputs": [],
   "source": [
    "#after that we can push it to hugging face \n",
    "from huggingface_hub import notebook_login"
   ]
  },
  {
   "cell_type": "code",
   "execution_count": 40,
   "metadata": {},
   "outputs": [
    {
     "data": {
      "application/vnd.jupyter.widget-view+json": {
       "model_id": "39aaa3bd0a284b3e80a1342aa35c5028",
       "version_major": 2,
       "version_minor": 0
      },
      "text/plain": [
       "VBox(children=(HTML(value='<center> <img\\nsrc=https://huggingface.co/front/assets/huggingface_logo-noborder.sv…"
      ]
     },
     "metadata": {},
     "output_type": "display_data"
    }
   ],
   "source": [
    "notebook_login()"
   ]
  },
  {
   "cell_type": "code",
   "execution_count": 41,
   "metadata": {},
   "outputs": [
    {
     "data": {
      "application/vnd.jupyter.widget-view+json": {
       "model_id": "5e52508beacf45179345d71503ab0b1d",
       "version_major": 2,
       "version_minor": 0
      },
      "text/plain": [
       "Uploading the dataset shards:   0%|          | 0/1 [00:00<?, ?it/s]"
      ]
     },
     "metadata": {},
     "output_type": "display_data"
    },
    {
     "data": {
      "application/vnd.jupyter.widget-view+json": {
       "model_id": "4d876c4db7d24000bf2fe9a1d83da5d4",
       "version_major": 2,
       "version_minor": 0
      },
      "text/plain": [
       "Creating parquet from Arrow format:   0%|          | 0/33 [00:00<?, ?ba/s]"
      ]
     },
     "metadata": {},
     "output_type": "display_data"
    },
    {
     "data": {
      "application/vnd.jupyter.widget-view+json": {
       "model_id": "6a923110d3ea43909c9f0bccfbfc23e1",
       "version_major": 2,
       "version_minor": 0
      },
      "text/plain": [
       "Uploading the dataset shards:   0%|          | 0/1 [00:00<?, ?it/s]"
      ]
     },
     "metadata": {},
     "output_type": "display_data"
    },
    {
     "data": {
      "application/vnd.jupyter.widget-view+json": {
       "model_id": "f7a140c8574b4315ad7ad4d5a4dc6083",
       "version_major": 2,
       "version_minor": 0
      },
      "text/plain": [
       "Creating parquet from Arrow format:   0%|          | 0/5 [00:00<?, ?ba/s]"
      ]
     },
     "metadata": {},
     "output_type": "display_data"
    },
    {
     "data": {
      "application/vnd.jupyter.widget-view+json": {
       "model_id": "d128ff14d0e34714b6650dae3ec6c2af",
       "version_major": 2,
       "version_minor": 0
      },
      "text/plain": [
       "Uploading the dataset shards:   0%|          | 0/1 [00:00<?, ?it/s]"
      ]
     },
     "metadata": {},
     "output_type": "display_data"
    },
    {
     "data": {
      "application/vnd.jupyter.widget-view+json": {
       "model_id": "82e6a3e7bd994105a4d421318e3c1ba6",
       "version_major": 2,
       "version_minor": 0
      },
      "text/plain": [
       "Creating parquet from Arrow format:   0%|          | 0/5 [00:00<?, ?ba/s]"
      ]
     },
     "metadata": {},
     "output_type": "display_data"
    },
    {
     "data": {
      "text/plain": [
       "CommitInfo(commit_url='https://huggingface.co/datasets/Mohamed-Sami/cleaned_xlsum_arabic/commit/d6fd5c078ad1397debdcb51e60ad8134101f7121', commit_message='Upload dataset', commit_description='', oid='d6fd5c078ad1397debdcb51e60ad8134101f7121', pr_url=None, pr_revision=None, pr_num=None)"
      ]
     },
     "execution_count": 41,
     "metadata": {},
     "output_type": "execute_result"
    }
   ],
   "source": [
    "dataset.push_to_hub(\"cleaned_xlsum_arabic\")"
   ]
  },
  {
   "cell_type": "code",
   "execution_count": null,
   "metadata": {},
   "outputs": [],
   "source": []
  }
 ],
 "metadata": {
  "kernelspec": {
   "display_name": "base",
   "language": "python",
   "name": "python3"
  },
  "language_info": {
   "codemirror_mode": {
    "name": "ipython",
    "version": 3
   },
   "file_extension": ".py",
   "mimetype": "text/x-python",
   "name": "python",
   "nbconvert_exporter": "python",
   "pygments_lexer": "ipython3",
   "version": "3.10.13"
  }
 },
 "nbformat": 4,
 "nbformat_minor": 2
}
