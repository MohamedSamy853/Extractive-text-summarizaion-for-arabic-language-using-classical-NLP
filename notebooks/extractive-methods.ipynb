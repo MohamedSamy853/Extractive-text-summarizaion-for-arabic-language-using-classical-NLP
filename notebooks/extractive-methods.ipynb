{
 "cells": [
  {
   "cell_type": "code",
   "execution_count": 56,
   "metadata": {},
   "outputs": [
    {
     "name": "stderr",
     "output_type": "stream",
     "text": [
      "[nltk_data] Downloading package punkt to\n",
      "[nltk_data]     C:\\Users\\oscar\\AppData\\Roaming\\nltk_data...\n",
      "[nltk_data]   Package punkt is already up-to-date!\n"
     ]
    }
   ],
   "source": [
    "import numpy as np \n",
    "import pandas as pd\n",
    "import matplotlib.pyplot as plt\n",
    "from sumy.parsers.plaintext import PlaintextParser\n",
    "from sumy.nlp.tokenizers import Tokenizer\n",
    "from sumy.nlp.stemmers import Stemmer\n",
    "from sumy.summarizers.lsa import LsaSummarizer\n",
    "from sumy.summarizers.text_rank import TextRankSummarizer\n",
    "from sumy.summarizers.reduction import ReductionSummarizer\n",
    "from sklearn.feature_extraction.text import TfidfVectorizer\n",
    "import nltk\n",
    "nltk.download(\"punkt\")\n",
    "from sumy.utils import get_stop_words\n",
    "\n",
    "from datasets import load_dataset , load_from_disk"
   ]
  },
  {
   "cell_type": "code",
   "execution_count": 4,
   "metadata": {},
   "outputs": [],
   "source": [
    "dataset = load_from_disk(\"../datasets/cleaned_xlsum_arabic\")"
   ]
  },
  {
   "cell_type": "code",
   "execution_count": 5,
   "metadata": {},
   "outputs": [
    {
     "data": {
      "text/plain": [
       "DatasetDict({\n",
       "    train: Dataset({\n",
       "        features: ['summary', 'text'],\n",
       "        num_rows: 32877\n",
       "    })\n",
       "    test: Dataset({\n",
       "        features: ['summary', 'text'],\n",
       "        num_rows: 4547\n",
       "    })\n",
       "    validation: Dataset({\n",
       "        features: ['summary', 'text'],\n",
       "        num_rows: 4559\n",
       "    })\n",
       "})"
      ]
     },
     "execution_count": 5,
     "metadata": {},
     "output_type": "execute_result"
    }
   ],
   "source": [
    "dataset"
   ]
  },
  {
   "cell_type": "code",
   "execution_count": 6,
   "metadata": {},
   "outputs": [],
   "source": [
    "#in this method we not train model so split here is not critical "
   ]
  },
  {
   "cell_type": "code",
   "execution_count": 151,
   "metadata": {},
   "outputs": [],
   "source": [
    "data = dataset['train'].shuffle(seed=42).select(range(2000))['text']"
   ]
  },
  {
   "cell_type": "code",
   "execution_count": 152,
   "metadata": {},
   "outputs": [
    {
     "data": {
      "text/plain": [
       "'يتوقع إيكلستون موافقة الاتحاد الدولي للسيارات على إدخال تعديلات على محركات السيارت المشاركة في السباق وتوقع إيكلستون خلال مؤتمر صحفي يوم الأحد على هامش سباق الجائزة الكبرى المقام في البحرين موافقة الاتحاد الدولي للسيارات على إدخال بعض التعديلات على محركات السيارات المشاركة في السباق. وأضاف: \" قدم فريق مرسيدس أفضل أداء بلا شك، ولا ينبغي معاقبته على الأداء الجيد. فنحن لا ندخل هذه التعديلات للعقاب\". وعبرت قطاعات من الجماهير وجهات الترويج للسباق عن استيائها من تخلي المسؤولين عن استخدام المحركات القديمة المكونة من ثماني أسطوانات ذات الصوت العالي واستخدام محركات توربينية مكونة من ست أسطوانات وتتسم بصوت منخفض، مع التأكيد على ضرورة الاقتصاد في استهلاك الوقود واستخدام التكنولوجيا الهجينة في صناعة المحركات. وانتقد فريقا فيراري وريدبول، اللذان يحاولان اللحاق بالفرق التي تستخدم محركات مرسيدس، الخطوة وطلبا إدخال بعض التعديلات على محركات السيارات في السباق، وذلك في الوقت الذي يتهمهما فيه المنافسون بإثارة القلق للتغطية على إخفاقهم. مواضيع قد تهمك نهاية \"تعديلات ضرورية\" ولا يستطيع مالك الحقوق التجارية لسباقات الفورمولا  للسيارات وحده تمرير التعديلات المقترحة، لكن الأمر يحتاج إلى موافقة الاتحاد الدولي للسيارات كي يجري تمرير تلك التعديلات. استبعد إيكلستون المقترحات السابقة التي تقدم بها رئيس فيراري بتقصير السباق وأضاف إيكلستون: \"التعديلات ضرورية، ولا أعتقد أن الطريقة التي تسير بها الأمور حاليا مقبولة لدى الجماهير.\" وقال: \"الناس الذين يشترون التذاكر لمشاهدة السباق أو يذهبون إلى أي مكان أخر، يتوقعون مشاهدة ما أعتادوا عليه من فورميولا .\" واستبعد إيكلستون ما أدلى به لوكا دي مونتيزيمولو، رئيس فيراري، من تصريحات تشير إلى تقصير السباق. ولفت إلى أنه من الممكن بحث مشكلة الضوضاء الصاخبة وحلها، بالإضافة إلى زيادة كمية الوقود من  كيلوغرام إلى  كيلوغرامات. وقال إن فريق مرسيدس، الذي حقق أول فوزين هذا الموسم من بداية الانطلاق، سيتصدر مضمار السباق كما هو معتاد، دون أي تقصير في الأداء.'"
      ]
     },
     "execution_count": 152,
     "metadata": {},
     "output_type": "execute_result"
    }
   ],
   "source": [
    "data[0]"
   ]
  },
  {
   "cell_type": "code",
   "execution_count": 9,
   "metadata": {},
   "outputs": [
    {
     "data": {
      "text/plain": [
       "list"
      ]
     },
     "execution_count": 9,
     "metadata": {},
     "output_type": "execute_result"
    }
   ],
   "source": [
    "type(data)"
   ]
  },
  {
   "cell_type": "markdown",
   "metadata": {},
   "source": [
    "# Using TF-IDF for Extractive Text Summarization\n",
    "\n",
    "Extractive text summarization involves selecting key sentences from a document to create a concise summary. TF-IDF (Term Frequency-Inverse Document Frequency) is a useful method for identifying important sentences based on the significance of words they contain.\n",
    "\n",
    "## Steps to Use TF-IDF for Extractive Summarization\n",
    "\n",
    "1. **Preprocess the Text:**\n",
    "   - Tokenize the text into sentences.\n",
    "   - Further tokenize each sentence into words.\n",
    "   - Remove stop words and apply stemming or lemmatization.\n",
    "\n",
    "2. **Calculate TF-IDF Scores:**\n",
    "   - Compute the term frequency (TF) for each word in each sentence.\n",
    "   - Compute the inverse document frequency (IDF) for each word across all sentences.\n",
    "   - Calculate the TF-IDF score for each word in each sentence by multiplying TF and IDF.\n",
    "\n",
    "3. **Score Sentences:**\n",
    "   - For each sentence, sum the TF-IDF scores of its words to get a sentence score.\n",
    "   - Rank sentences based on their scores.\n",
    "\n",
    "4. **Select Key Sentences:**\n",
    "   - Choose the top-ranked sentences to form the summary. The number of sentences selected can be based on a predefined summary length or a threshold score.\n"
   ]
  },
  {
   "cell_type": "code",
   "execution_count": 35,
   "metadata": {},
   "outputs": [],
   "source": [
    "def summary_with_tfidf(texts , num_summary_sentence=3):\n",
    "    summaries = []\n",
    "    for sentence in texts:\n",
    "        sentences = nltk.tokenize.sent_tokenize(sentence)\n",
    "        tfidfvectorizer = TfidfVectorizer()\n",
    "        words_tfidf = tfidfvectorizer.fit_transform(sentences)\n",
    "        #print(sentences)\n",
    "        sent_sum = words_tfidf.sum(axis=1)\n",
    "        extractive_sentence = np.argsort(sent_sum , axis=0)[::-1]\n",
    "        \n",
    "        text_summaries = []\n",
    "        for i in range(0, len(sentences)):\n",
    "            if i in extractive_sentence[:num_summary_sentence]:\n",
    "                text_summaries.append(sentences[i])\n",
    "        summaries.append(\"\\n\".join(text_summaries))\n",
    "        \n",
    "    return summaries\n",
    "            \n",
    "        \n",
    "        "
   ]
  },
  {
   "cell_type": "code",
   "execution_count": 36,
   "metadata": {},
   "outputs": [],
   "source": [
    "tfidf_text_summarization = summary_with_tfidf(data)"
   ]
  },
  {
   "cell_type": "code",
   "execution_count": 41,
   "metadata": {},
   "outputs": [
    {
     "name": "stdout",
     "output_type": "stream",
     "text": [
      "569\n"
     ]
    }
   ],
   "source": [
    "print(len(tfidf_text_summarization[1]))"
   ]
  },
  {
   "cell_type": "code",
   "execution_count": 40,
   "metadata": {},
   "outputs": [
    {
     "name": "stdout",
     "output_type": "stream",
     "text": [
      "2193\n"
     ]
    }
   ],
   "source": [
    "print(len(data[1]))\n"
   ]
  },
  {
   "cell_type": "markdown",
   "metadata": {},
   "source": [
    "## Extractive Text Summarization using LSA with Sumy\n",
    "\n",
    "Latent Semantic Analysis (LSA) is a technique used in extractive text summarization to identify and select important sentences based on the underlying semantic structure of the text. Here's a brief overview of how LSA works:\n",
    "\n",
    "1. **Vector Space Representation:**\n",
    "\n",
    "LSA represents the text as a matrix of term-document relationships.\n",
    "Each sentence or document is represented as a vector in a high-dimensional space, where dimensions correspond to terms (words).\n",
    "\n",
    "2. **Dimensionality Reduction:**\n",
    "\n",
    "LSA employs Singular Value Decomposition (SVD) to reduce the dimensionality of the term-document matrix.\n",
    "This reduction captures the latent (underlying) semantic relationships between terms and documents.\n",
    "\n",
    "3. **Semantic Similarity Calculation:**\n",
    "\n",
    "After dimensionality reduction, LSA calculates semantic similarity between sentences using cosine similarity or other metrics in the reduced space.\n",
    "Sentences that are semantically similar to each other are likely to contain similar information.\n",
    "Sentence Importance:\n",
    "\n",
    "LSA assigns importance scores to sentences based on their similarity to other sentences in the text.\n",
    "Sentences that are more similar to the overall content of the text are considered more important.\n",
    "\n",
    "4. **Selection of Sentences:**\n",
    "\n",
    "Based on these importance scores, LSA selects sentences that best represent the main themes and information of the text.\n",
    "Typically, sentences with higher importance scores are chosen to form the summary.\n",
    "LSA is effective for extractive summarization because it goes beyond simple keyword matching and considers the underlying semantic structure of the text, enabling it to capture more nuanced relationships and select sentences that collectively summarize the content.\n",
    "\n",
    "This guide demonstrates how to perform extractive text summarization using Latent Semantic Analysis (LSA) with the Sumy library in Python.\n",
    "\n",
    "### Implementation \n",
    "it will be repative for anthor methods in sumy library \n",
    "\n",
    "1. **Import the necessary modules:**\n",
    "Import the PlaintextParser, Tokenizer, and LsaSummarizer from the Sumy library.\n",
    "\n",
    "2. **Prepare the text for summarization:**\n",
    "You can either use a string of text directly or read from a file.\n",
    "\n",
    "3. **Parse the text:**\n",
    "Use PlaintextParser to parse the text, specifying the Tokenizer for the desired language.\n",
    "\n",
    "4. **Initialize the LSA Summarizer:**\n",
    "Create an instance of LsaSummarizer.\n",
    "\n",
    "5. **Generate the summary:**\n",
    "Use the LsaSummarizer instance to generate the summary by specifying the number of sentences you want in the summary.\n",
    "\n",
    "6. **Output the summary:**\n",
    "Print or otherwise use the generated summary."
   ]
  },
  {
   "cell_type": "code",
   "execution_count": 45,
   "metadata": {},
   "outputs": [],
   "source": [
    "def summary_with_lsa(texts , num_summary_sentence=3):\n",
    "    language = 'arabic'\n",
    "    summaries = []\n",
    "    stemmer = Stemmer(language)\n",
    "    tokenizer = Tokenizer(language)\n",
    "    for sentence in texts:\n",
    "        parser = PlaintextParser.from_string(sentence , tokenizer)\n",
    "        summarizer = LsaSummarizer(stemmer)\n",
    "        summarizer.stop_words = get_stop_words(language)\n",
    "        \n",
    "        text_summary = []\n",
    "        \n",
    "        for extractive_sentence in summarizer(parser.document , sentences_count=num_summary_sentence):\n",
    "            text_summary.append(str(extractive_sentence))\n",
    "            \n",
    "        \n",
    "        summaries.append(\"\\n\".join(text_summary))\n",
    "        \n",
    "    return summaries\n",
    "        "
   ]
  },
  {
   "cell_type": "code",
   "execution_count": 46,
   "metadata": {},
   "outputs": [],
   "source": [
    "lsa_text_summarization = summary_with_lsa(data)"
   ]
  },
  {
   "cell_type": "code",
   "execution_count": 47,
   "metadata": {},
   "outputs": [
    {
     "name": "stdout",
     "output_type": "stream",
     "text": [
      "569\n",
      "2193\n",
      "531\n"
     ]
    }
   ],
   "source": [
    "print(len(tfidf_text_summarization[1]))\n",
    "print(len(data[1]))\n",
    "print(len(lsa_text_summarization[1]))"
   ]
  },
  {
   "cell_type": "markdown",
   "metadata": {},
   "source": [
    "## Extractive Text Summarization using TextRank with Sumy\n",
    "\n",
    "TextRank is an extractive text summarization technique inspired by Google's PageRank algorithm. It works by representing text as a graph, where sentences are nodes and edges between nodes represent the relationship or similarity between sentences. Here's how TextRank works:\n",
    "\n",
    "1.**Graph Representation:**\n",
    "\n",
    "Each sentence in the text is represented as a node in a graph.\n",
    "Edges between nodes are weighted based on measures of similarity between sentences, such as cosine similarity of their vector representations or other metrics.\n",
    "\n",
    "2.**Sentence Importance Calculation:**\n",
    "\n",
    "TextRank calculates an importance score for each sentence based on the graph structure.\n",
    "Importance is often determined using iterative algorithms that resemble the power iteration method used in PageRank.\n",
    "Ranking Sentences:\n",
    "\n",
    "Sentences are ranked according to their importance scores.\n",
    "Higher-ranked sentences are considered more important and are selected to form the summary.\n",
    "\n",
    "3. **Generating the Summary:**\n",
    "\n",
    "Finally, a summary is generated by selecting the top-ranked sentences up to a desired length or number of sentences.\n",
    "TextRank is effective because it leverages the inherent structure and relationships within the text to identify key sentences that best represent the content, making it a popular method for automatic text summarization tasks.\n",
    "\n",
    "\n",
    "\n",
    "## Implementation \n",
    "\n",
    "1. **Import the necessary modules:**\n",
    "\n",
    "Import the PlaintextParser, Tokenizer, and TextRankSummarizer from the Sumy library.\n",
    "\n",
    "2. **Prepare the text for summarization:**\n",
    "\n",
    "You can either use a string of text directly or read from a file.\n",
    "\n",
    "4. **Parse the text:**\n",
    "\n",
    "Use PlaintextParser to parse the text, specifying the Tokenizer for the desired language.\n",
    "\n",
    "5. **Initialize the TextRank Summarizer:**\n",
    "\n",
    "Create an instance of TextRankSummarizer.\n",
    "\n",
    "6. **Generate the summary:**\n",
    "\n",
    "Use the TextRankSummarizer instance to generate the summary by specifying the number of sentences you want in the summary.\n",
    "\n",
    "7. **Output the summary:**\n",
    "\n",
    "Print the generated summary."
   ]
  },
  {
   "cell_type": "code",
   "execution_count": null,
   "metadata": {},
   "outputs": [],
   "source": []
  },
  {
   "cell_type": "code",
   "execution_count": 48,
   "metadata": {},
   "outputs": [],
   "source": [
    "def summary_with_text_rank(texts , num_summary_sentence=3):\n",
    "    language = 'arabic'\n",
    "    summaries = []\n",
    "    stemmer = Stemmer(language)\n",
    "    tokenizer = Tokenizer(language)\n",
    "    for sentence in texts:\n",
    "        parser = PlaintextParser.from_string(sentence , tokenizer)\n",
    "        summarizer = TextRankSummarizer(stemmer)\n",
    "        summarizer.stop_words = get_stop_words(language)\n",
    "        \n",
    "        text_summary = []\n",
    "        \n",
    "        for extractive_sentence in summarizer(parser.document , sentences_count=num_summary_sentence):\n",
    "            text_summary.append(str(extractive_sentence))\n",
    "            \n",
    "        \n",
    "        summaries.append(\"\\n\".join(text_summary))\n",
    "        \n",
    "    return summaries\n",
    "        "
   ]
  },
  {
   "cell_type": "code",
   "execution_count": 49,
   "metadata": {},
   "outputs": [],
   "source": [
    "text_rank_text_summarization = summary_with_lsa(data)"
   ]
  },
  {
   "cell_type": "code",
   "execution_count": 51,
   "metadata": {},
   "outputs": [
    {
     "name": "stdout",
     "output_type": "stream",
     "text": [
      "569\n",
      "2193\n",
      "531\n",
      "531\n"
     ]
    }
   ],
   "source": [
    "print(len(tfidf_text_summarization[1]))\n",
    "print(len(data[1]))\n",
    "print(len(lsa_text_summarization[1]))\n",
    "print(len(text_rank_text_summarization[1]))"
   ]
  },
  {
   "cell_type": "markdown",
   "metadata": {},
   "source": [
    "## Extractive Text Summarization using TextRank\n",
    "\n",
    "Text reduction methods in extractive text summarization aim to condense the content while preserving essential information. Here's a concise description of how text reduction methods work:\n",
    "\n",
    "Text reduction methods typically involve:\n",
    "\n",
    "1. **Sentence Ranking:**\n",
    "\n",
    "Initially, sentences are ranked based on different criteria such as importance, relevance, or informativeness.\n",
    "Criteria may include the frequency of important words, sentence length, or their position in the document.\n",
    "\n",
    "2. **Selection of Top Sentences:**\n",
    "\n",
    "The top-ranked sentences are then selected to form the summary.\n",
    "This selection process ensures that the most informative and relevant sentences are included while minimizing redundancy.\n",
    "\n",
    "3. **Content Compression:**\n",
    "\n",
    "Some methods may further compress the selected sentences by removing redundant phrases or merging similar sentences.\n",
    "This step reduces the overall length of the summary while maintaining coherence and preserving key information.\n",
    "\n",
    "4. **Output Generation:**\n",
    "\n",
    "Finally, the summarized content is outputted as a concise representation of the original text.\n",
    "Text reduction methods are effective for generating concise summaries by focusing on the most significant content and eliminating unnecessary details."
   ]
  },
  {
   "cell_type": "code",
   "execution_count": 57,
   "metadata": {},
   "outputs": [],
   "source": [
    "def summary_with_text_reduction(texts , num_summary_sentence=3):\n",
    "    language = 'arabic'\n",
    "    summaries = []\n",
    "    stemmer = Stemmer(language)\n",
    "    tokenizer = Tokenizer(language)\n",
    "    for sentence in texts:\n",
    "        parser = PlaintextParser.from_string(sentence , tokenizer)\n",
    "        summarizer = ReductionSummarizer(stemmer)\n",
    "        summarizer.stop_words = get_stop_words(language)\n",
    "        \n",
    "        text_summary = []\n",
    "        \n",
    "        for extractive_sentence in summarizer(parser.document , sentences_count=num_summary_sentence):\n",
    "            text_summary.append(str(extractive_sentence))\n",
    "            \n",
    "        \n",
    "        summaries.append(\"\\n\".join(text_summary))\n",
    "        \n",
    "    return summaries\n",
    "        "
   ]
  },
  {
   "cell_type": "code",
   "execution_count": 58,
   "metadata": {},
   "outputs": [],
   "source": [
    "reduction_text_summarization = summary_with_text_reduction(data)"
   ]
  },
  {
   "cell_type": "code",
   "execution_count": 60,
   "metadata": {},
   "outputs": [
    {
     "name": "stdout",
     "output_type": "stream",
     "text": [
      "569\n",
      "2193\n",
      "531\n",
      "531\n",
      "667\n"
     ]
    }
   ],
   "source": [
    "print(len(tfidf_text_summarization[1]))\n",
    "print(len(data[1]))\n",
    "print(len(lsa_text_summarization[1]))\n",
    "print(len(text_rank_text_summarization[1]))\n",
    "print(len(reduction_text_summarization[1]))"
   ]
  },
  {
   "cell_type": "code",
   "execution_count": 63,
   "metadata": {},
   "outputs": [],
   "source": [
    "results = pd.DataFrame({\"text\":data ,\n",
    "                        \"tfidf_summy\":tfidf_text_summarization , \n",
    "                        \"lsa_summy\":lsa_text_summarization , \n",
    "                        \"text_rank_summy\":text_rank_text_summarization , \n",
    "                        \"reduction_summy\":reduction_text_summarization})"
   ]
  },
  {
   "cell_type": "code",
   "execution_count": 205,
   "metadata": {},
   "outputs": [
    {
     "data": {
      "text/plain": [
       "'يتوقع إيكلستون موافقة الاتحاد الدولي للسيارات على إدخال تعديلات على محركات السيارت المشاركة في السباق وتوقع إيكلستون خلال مؤتمر صحفي يوم الأحد على هامش سباق الجائزة الكبرى المقام في البحرين موافقة الاتحاد الدولي للسيارات على إدخال بعض التعديلات على محركات السيارات المشاركة في السباق. وأضاف: \" قدم فريق مرسيدس أفضل أداء بلا شك، ولا ينبغي معاقبته على الأداء الجيد. فنحن لا ندخل هذه التعديلات للعقاب\". وعبرت قطاعات من الجماهير وجهات الترويج للسباق عن استيائها من تخلي المسؤولين عن استخدام المحركات القديمة المكونة من ثماني أسطوانات ذات الصوت العالي واستخدام محركات توربينية مكونة من ست أسطوانات وتتسم بصوت منخفض، مع التأكيد على ضرورة الاقتصاد في استهلاك الوقود واستخدام التكنولوجيا الهجينة في صناعة المحركات. وانتقد فريقا فيراري وريدبول، اللذان يحاولان اللحاق بالفرق التي تستخدم محركات مرسيدس، الخطوة وطلبا إدخال بعض التعديلات على محركات السيارات في السباق، وذلك في الوقت الذي يتهمهما فيه المنافسون بإثارة القلق للتغطية على إخفاقهم. مواضيع قد تهمك نهاية \"تعديلات ضرورية\" ولا يستطيع مالك الحقوق التجارية لسباقات الفورمولا  للسيارات وحده تمرير التعديلات المقترحة، لكن الأمر يحتاج إلى موافقة الاتحاد الدولي للسيارات كي يجري تمرير تلك التعديلات. استبعد إيكلستون المقترحات السابقة التي تقدم بها رئيس فيراري بتقصير السباق وأضاف إيكلستون: \"التعديلات ضرورية، ولا أعتقد أن الطريقة التي تسير بها الأمور حاليا مقبولة لدى الجماهير.\" وقال: \"الناس الذين يشترون التذاكر لمشاهدة السباق أو يذهبون إلى أي مكان أخر، يتوقعون مشاهدة ما أعتادوا عليه من فورميولا .\" واستبعد إيكلستون ما أدلى به لوكا دي مونتيزيمولو، رئيس فيراري، من تصريحات تشير إلى تقصير السباق. ولفت إلى أنه من الممكن بحث مشكلة الضوضاء الصاخبة وحلها، بالإضافة إلى زيادة كمية الوقود من  كيلوغرام إلى  كيلوغرامات. وقال إن فريق مرسيدس، الذي حقق أول فوزين هذا الموسم من بداية الانطلاق، سيتصدر مضمار السباق كما هو معتاد، دون أي تقصير في الأداء.'"
      ]
     },
     "execution_count": 205,
     "metadata": {},
     "output_type": "execute_result"
    }
   ],
   "source": [
    "results.iloc[0,0]"
   ]
  },
  {
   "cell_type": "code",
   "execution_count": 64,
   "metadata": {},
   "outputs": [
    {
     "data": {
      "text/html": [
       "<div>\n",
       "<style scoped>\n",
       "    .dataframe tbody tr th:only-of-type {\n",
       "        vertical-align: middle;\n",
       "    }\n",
       "\n",
       "    .dataframe tbody tr th {\n",
       "        vertical-align: top;\n",
       "    }\n",
       "\n",
       "    .dataframe thead th {\n",
       "        text-align: right;\n",
       "    }\n",
       "</style>\n",
       "<table border=\"1\" class=\"dataframe\">\n",
       "  <thead>\n",
       "    <tr style=\"text-align: right;\">\n",
       "      <th></th>\n",
       "      <th>text</th>\n",
       "      <th>tfidf_summy</th>\n",
       "      <th>lsa_summy</th>\n",
       "      <th>text_rank_summy</th>\n",
       "      <th>reduction_summy</th>\n",
       "    </tr>\n",
       "  </thead>\n",
       "  <tbody>\n",
       "    <tr>\n",
       "      <th>1527</th>\n",
       "      <td>اكتشاف مقبرة أثرية تضم  مومياء في مصر وقال صلا...</td>\n",
       "      <td>ضم المدفن  من المومياوات غير الملكية وأوضح وزي...</td>\n",
       "      <td>وقد عثرت البعثة الأثرية على فجوات شرق مقابر تو...</td>\n",
       "      <td>وقد عثرت البعثة الأثرية على فجوات شرق مقابر تو...</td>\n",
       "      <td>استاذ المصريات في جامعة القاهرة ورئيس بعثة الت...</td>\n",
       "    </tr>\n",
       "    <tr>\n",
       "      <th>928</th>\n",
       "      <td>وقالت تقارير إن المجلس يعتزم إحالة الضباط الكب...</td>\n",
       "      <td>أسفرت أشهر من الاحتجاجات الشعبية عن الاطاحة با...</td>\n",
       "      <td>وقالت تقارير إن المجلس يعتزم إحالة الضباط الكب...</td>\n",
       "      <td>وقالت تقارير إن المجلس يعتزم إحالة الضباط الكب...</td>\n",
       "      <td>وقالت تقارير إن المجلس يعتزم إحالة الضباط الكب...</td>\n",
       "    </tr>\n",
       "    <tr>\n",
       "      <th>361</th>\n",
       "      <td>لم يعرف بعد جنسيات الجنود القتلى ورغم أن بيان ...</td>\n",
       "      <td>لم يعرف بعد جنسيات الجنود القتلى ورغم أن بيان ...</td>\n",
       "      <td>لم يعرف بعد جنسيات الجنود القتلى ورغم أن بيان ...</td>\n",
       "      <td>لم يعرف بعد جنسيات الجنود القتلى ورغم أن بيان ...</td>\n",
       "      <td>مواضيع قد تهمك نهاية وكان مسؤولون أمريكيون قال...</td>\n",
       "    </tr>\n",
       "    <tr>\n",
       "      <th>1808</th>\n",
       "      <td>دعت الرئيسة بارك الى انتهاج سياسة جديدة حيال ك...</td>\n",
       "      <td>وقالت الرئيسة الكورية الجنوبية بارك غيون هاي ف...</td>\n",
       "      <td>مواضيع قد تهمك نهاية وقالت إن العقوبات التي ين...</td>\n",
       "      <td>مواضيع قد تهمك نهاية وقالت إن العقوبات التي ين...</td>\n",
       "      <td>دعت الرئيسة بارك الى انتهاج سياسة جديدة حيال ك...</td>\n",
       "    </tr>\n",
       "    <tr>\n",
       "      <th>551</th>\n",
       "      <td>أقام هولاند علاقة مع فاليري تريرفيلر في عام  و...</td>\n",
       "      <td>وتطرقت الندوة الصحفية إلى حياة هولاند الخاصة إ...</td>\n",
       "      <td>مواضيع قد تهمك نهاية وقدم تفاصيل بشأن \"ميثاق ا...</td>\n",
       "      <td>مواضيع قد تهمك نهاية وقدم تفاصيل بشأن \"ميثاق ا...</td>\n",
       "      <td>أقام هولاند علاقة مع فاليري تريرفيلر في عام  و...</td>\n",
       "    </tr>\n",
       "  </tbody>\n",
       "</table>\n",
       "</div>"
      ],
      "text/plain": [
       "                                                   text  \\\n",
       "1527  اكتشاف مقبرة أثرية تضم  مومياء في مصر وقال صلا...   \n",
       "928   وقالت تقارير إن المجلس يعتزم إحالة الضباط الكب...   \n",
       "361   لم يعرف بعد جنسيات الجنود القتلى ورغم أن بيان ...   \n",
       "1808  دعت الرئيسة بارك الى انتهاج سياسة جديدة حيال ك...   \n",
       "551   أقام هولاند علاقة مع فاليري تريرفيلر في عام  و...   \n",
       "\n",
       "                                            tfidf_summy  \\\n",
       "1527  ضم المدفن  من المومياوات غير الملكية وأوضح وزي...   \n",
       "928   أسفرت أشهر من الاحتجاجات الشعبية عن الاطاحة با...   \n",
       "361   لم يعرف بعد جنسيات الجنود القتلى ورغم أن بيان ...   \n",
       "1808  وقالت الرئيسة الكورية الجنوبية بارك غيون هاي ف...   \n",
       "551   وتطرقت الندوة الصحفية إلى حياة هولاند الخاصة إ...   \n",
       "\n",
       "                                              lsa_summy  \\\n",
       "1527  وقد عثرت البعثة الأثرية على فجوات شرق مقابر تو...   \n",
       "928   وقالت تقارير إن المجلس يعتزم إحالة الضباط الكب...   \n",
       "361   لم يعرف بعد جنسيات الجنود القتلى ورغم أن بيان ...   \n",
       "1808  مواضيع قد تهمك نهاية وقالت إن العقوبات التي ين...   \n",
       "551   مواضيع قد تهمك نهاية وقدم تفاصيل بشأن \"ميثاق ا...   \n",
       "\n",
       "                                        text_rank_summy  \\\n",
       "1527  وقد عثرت البعثة الأثرية على فجوات شرق مقابر تو...   \n",
       "928   وقالت تقارير إن المجلس يعتزم إحالة الضباط الكب...   \n",
       "361   لم يعرف بعد جنسيات الجنود القتلى ورغم أن بيان ...   \n",
       "1808  مواضيع قد تهمك نهاية وقالت إن العقوبات التي ين...   \n",
       "551   مواضيع قد تهمك نهاية وقدم تفاصيل بشأن \"ميثاق ا...   \n",
       "\n",
       "                                        reduction_summy  \n",
       "1527  استاذ المصريات في جامعة القاهرة ورئيس بعثة الت...  \n",
       "928   وقالت تقارير إن المجلس يعتزم إحالة الضباط الكب...  \n",
       "361   مواضيع قد تهمك نهاية وكان مسؤولون أمريكيون قال...  \n",
       "1808  دعت الرئيسة بارك الى انتهاج سياسة جديدة حيال ك...  \n",
       "551   أقام هولاند علاقة مع فاليري تريرفيلر في عام  و...  "
      ]
     },
     "execution_count": 64,
     "metadata": {},
     "output_type": "execute_result"
    }
   ],
   "source": [
    "results.sample(n=5).head()"
   ]
  },
  {
   "cell_type": "code",
   "execution_count": 164,
   "metadata": {},
   "outputs": [],
   "source": [
    "def tokenize(text):\n",
    "    \"\"\"\n",
    "    Tokenize the Arabic text. Here we use a simple whitespace tokenizer.\n",
    "    \"\"\"\n",
    "    return text.split()\n",
    "\n",
    "def get_ngrams(n, text):\n",
    "    \"\"\"\n",
    "    Extract n-grams from text.\n",
    "    \"\"\"\n",
    "    tokens = tokenize(text)\n",
    "    ngrams = set()\n",
    "    for i in range(len(tokens) - n + 1):\n",
    "        ngram = tuple(tokens[i:i + n])\n",
    "        ngrams.add(ngram)\n",
    "    return ngrams\n",
    "\n",
    "def rouge_2(candidate, reference):\n",
    "    \"\"\"\n",
    "    Calculate ROUGE-2 score.\n",
    "    \"\"\"\n",
    "    candidate_bigrams = get_ngrams(2, candidate)\n",
    "    reference_bigrams = get_ngrams(2, reference)\n",
    "    \n",
    "    overlap_bigrams = candidate_bigrams.intersection(reference_bigrams)\n",
    "    \n",
    "    precision = len(overlap_bigrams) / len(candidate_bigrams) if candidate_bigrams else 0\n",
    "    recall = len(overlap_bigrams) / len(reference_bigrams) if reference_bigrams else 0\n",
    "    f1_score = (2 * precision * recall) / (precision + recall) if (precision + recall) else 0\n",
    "    \n",
    "    return precision, recall, f1_score\n",
    "\n",
    "def lcs(X, Y):\n",
    "    \"\"\"\n",
    "    Find the length of the longest common subsequence between two sequences.\n",
    "    \"\"\"\n",
    "    m = len(X)\n",
    "    n = len(Y)\n",
    "    \n",
    "    # Create a table to store lengths of longest common subsequence.\n",
    "    L = [[0] * (n + 1) for i in range(m + 1)]\n",
    "    \n",
    "    for i in range(m + 1):\n",
    "        for j in range(n + 1):\n",
    "            if i == 0 or j == 0:\n",
    "                L[i][j] = 0\n",
    "            elif X[i - 1] == Y[j - 1]:\n",
    "                L[i][j] = L[i - 1][j - 1] + 1\n",
    "            else:\n",
    "                L[i][j] = max(L[i - 1][j], L[i][j - 1])\n",
    "    \n",
    "    return L[m][n]\n",
    "\n",
    "def rouge_l(candidate, reference):\n",
    "    \"\"\"\n",
    "    Calculate ROUGE-L score.\n",
    "    \"\"\"\n",
    "    candidate_tokens = tokenize(candidate)\n",
    "    reference_tokens = tokenize(reference)\n",
    "    \n",
    "    lcs_length = lcs(candidate_tokens, reference_tokens)\n",
    "    \n",
    "    precision = lcs_length / len(candidate_tokens) if candidate_tokens else 0\n",
    "    recall = lcs_length / len(reference_tokens) if reference_tokens else 0\n",
    "    f1_score = (2 * precision * recall) / (precision + recall) if (precision + recall) else 0\n",
    "    \n",
    "    return precision, recall, f1_score\n",
    "\n"
   ]
  },
  {
   "cell_type": "code",
   "execution_count": 165,
   "metadata": {},
   "outputs": [
    {
     "data": {
      "text/plain": [
       "(1.0, 1.0, 1.0)"
      ]
     },
     "execution_count": 165,
     "metadata": {},
     "output_type": "execute_result"
    }
   ],
   "source": [
    "rouge_2(data[0] , data[0])"
   ]
  },
  {
   "cell_type": "code",
   "execution_count": 179,
   "metadata": {},
   "outputs": [],
   "source": [
    "def calc_rouge2(predictions , refrences):\n",
    "    rouges = {}\n",
    "    precisions_lcs , recalls_lcs , f1_scores_lcs = [] , [] , []\n",
    "    for pred , ref in zip(predictions , refrences):\n",
    "        precision, recall, f1_score = rouge_l(pred , ref)\n",
    "        precisions_lcs.append(precision)\n",
    "        recalls_lcs.append(recall)\n",
    "        f1_scores_lcs.append(f1_score)\n",
    "    \n",
    "    rouges['rougel'] =  {\"precision\":sum(precisions_lcs)/len(precisions_lcs) , \n",
    "                        \"recall\":sum(recalls_lcs)/len(recalls_lcs) , \n",
    "                        \"f1_score\":sum(f1_scores_lcs)/len(f1_scores_lcs)}\n",
    "    \n",
    "    return rouges"
   ]
  },
  {
   "cell_type": "code",
   "execution_count": 180,
   "metadata": {},
   "outputs": [
    {
     "data": {
      "text/plain": [
       "{'rougel': {'precision': 0.046632124352331605,\n",
       "  'recall': 0.046632124352331605,\n",
       "  'f1_score': 0.046632124352331605}}"
      ]
     },
     "execution_count": 180,
     "metadata": {},
     "output_type": "execute_result"
    }
   ],
   "source": [
    "calc_rouge2(predictions=results['lsa_summy'].astype(str).values[0] ,refrences=results['text'].astype(str).values[0])"
   ]
  },
  {
   "cell_type": "code",
   "execution_count": 181,
   "metadata": {},
   "outputs": [
    {
     "data": {
      "text/plain": [
       "{'rougel': {'precision': 0.046008119079837616,\n",
       "  'recall': 0.046008119079837616,\n",
       "  'f1_score': 0.046008119079837616}}"
      ]
     },
     "execution_count": 181,
     "metadata": {},
     "output_type": "execute_result"
    }
   ],
   "source": [
    "calc_rouge2(predictions=results['tfidf_summy'].astype(str).values[0] ,refrences=results['text'].astype(str).values[0])"
   ]
  },
  {
   "cell_type": "code",
   "execution_count": 182,
   "metadata": {},
   "outputs": [
    {
     "data": {
      "text/plain": [
       "{'rougel': {'precision': 0.519916142557652,\n",
       "  'recall': 0.519916142557652,\n",
       "  'f1_score': 0.519916142557652}}"
      ]
     },
     "execution_count": 182,
     "metadata": {},
     "output_type": "execute_result"
    }
   ],
   "source": [
    "calc_rouge2(predictions=results['reduction_summy'].astype(str).values[0] ,refrences=results['text'].astype(str).values[0])"
   ]
  },
  {
   "cell_type": "code",
   "execution_count": 183,
   "metadata": {},
   "outputs": [
    {
     "data": {
      "text/plain": [
       "{'rougel': {'precision': 0.046632124352331605,\n",
       "  'recall': 0.046632124352331605,\n",
       "  'f1_score': 0.046632124352331605}}"
      ]
     },
     "execution_count": 183,
     "metadata": {},
     "output_type": "execute_result"
    }
   ],
   "source": [
    "calc_rouge2(predictions=results['text_rank_summy'].astype(str).values[0] ,refrences=results['text'].astype(str).values[0])"
   ]
  },
  {
   "cell_type": "code",
   "execution_count": null,
   "metadata": {},
   "outputs": [],
   "source": [
    "#reduction is consider the best one of them"
   ]
  },
  {
   "cell_type": "code",
   "execution_count": 184,
   "metadata": {},
   "outputs": [],
   "source": [
    "text_rank_eval = calc_rouge2(predictions=results['text_rank_summy'].astype(str).values[0] ,refrences=results['text'].astype(str).values[0])\n",
    "lsa_eval = calc_rouge2(predictions=results['lsa_summy'].astype(str).values[0] ,refrences=results['text'].astype(str).values[0])\n",
    "tfidf_eval = calc_rouge2(predictions=results['tfidf_summy'].astype(str).values[0] ,refrences=results['text'].astype(str).values[0])\n",
    "reduction_eval = calc_rouge2(predictions=results['reduction_summy'].astype(str).values[0] ,refrences=results['text'].astype(str).values[0])"
   ]
  },
  {
   "cell_type": "code",
   "execution_count": 185,
   "metadata": {},
   "outputs": [],
   "source": [
    "eval_res = pd.DataFrame({\"text_rank\":text_rank_eval , \"lsa\":lsa_eval , 'tfidf':tfidf_eval , 'reduction':reduction_eval}).T"
   ]
  },
  {
   "cell_type": "code",
   "execution_count": 186,
   "metadata": {},
   "outputs": [
    {
     "data": {
      "text/html": [
       "<div>\n",
       "<style scoped>\n",
       "    .dataframe tbody tr th:only-of-type {\n",
       "        vertical-align: middle;\n",
       "    }\n",
       "\n",
       "    .dataframe tbody tr th {\n",
       "        vertical-align: top;\n",
       "    }\n",
       "\n",
       "    .dataframe thead th {\n",
       "        text-align: right;\n",
       "    }\n",
       "</style>\n",
       "<table border=\"1\" class=\"dataframe\">\n",
       "  <thead>\n",
       "    <tr style=\"text-align: right;\">\n",
       "      <th></th>\n",
       "      <th>rougel</th>\n",
       "    </tr>\n",
       "  </thead>\n",
       "  <tbody>\n",
       "    <tr>\n",
       "      <th>text_rank</th>\n",
       "      <td>{'precision': 0.046632124352331605, 'recall': ...</td>\n",
       "    </tr>\n",
       "    <tr>\n",
       "      <th>lsa</th>\n",
       "      <td>{'precision': 0.046632124352331605, 'recall': ...</td>\n",
       "    </tr>\n",
       "    <tr>\n",
       "      <th>tfidf</th>\n",
       "      <td>{'precision': 0.046008119079837616, 'recall': ...</td>\n",
       "    </tr>\n",
       "    <tr>\n",
       "      <th>reduction</th>\n",
       "      <td>{'precision': 0.519916142557652, 'recall': 0.5...</td>\n",
       "    </tr>\n",
       "  </tbody>\n",
       "</table>\n",
       "</div>"
      ],
      "text/plain": [
       "                                                      rougel\n",
       "text_rank  {'precision': 0.046632124352331605, 'recall': ...\n",
       "lsa        {'precision': 0.046632124352331605, 'recall': ...\n",
       "tfidf      {'precision': 0.046008119079837616, 'recall': ...\n",
       "reduction  {'precision': 0.519916142557652, 'recall': 0.5..."
      ]
     },
     "execution_count": 186,
     "metadata": {},
     "output_type": "execute_result"
    }
   ],
   "source": [
    "eval_res.head()"
   ]
  },
  {
   "cell_type": "code",
   "execution_count": 189,
   "metadata": {},
   "outputs": [],
   "source": [
    "eval_res['precision_L'] = eval_res['rougel'].apply(lambda x : x['precision'])\n",
    "eval_res['recall_L'] = eval_res['rougel'].apply(lambda x : x['recall'])\n",
    "eval_res['f1_score_L'] = eval_res['rougel'].apply(lambda x : x['f1_score'])\n"
   ]
  },
  {
   "cell_type": "code",
   "execution_count": 191,
   "metadata": {},
   "outputs": [],
   "source": [
    "eval_res.drop(columns='rougel', inplace=True)"
   ]
  },
  {
   "cell_type": "code",
   "execution_count": 192,
   "metadata": {},
   "outputs": [
    {
     "data": {
      "text/html": [
       "<div>\n",
       "<style scoped>\n",
       "    .dataframe tbody tr th:only-of-type {\n",
       "        vertical-align: middle;\n",
       "    }\n",
       "\n",
       "    .dataframe tbody tr th {\n",
       "        vertical-align: top;\n",
       "    }\n",
       "\n",
       "    .dataframe thead th {\n",
       "        text-align: right;\n",
       "    }\n",
       "</style>\n",
       "<table border=\"1\" class=\"dataframe\">\n",
       "  <thead>\n",
       "    <tr style=\"text-align: right;\">\n",
       "      <th></th>\n",
       "      <th>precision_L</th>\n",
       "      <th>recall_L</th>\n",
       "      <th>f1_score_L</th>\n",
       "    </tr>\n",
       "  </thead>\n",
       "  <tbody>\n",
       "    <tr>\n",
       "      <th>text_rank</th>\n",
       "      <td>0.046632</td>\n",
       "      <td>0.046632</td>\n",
       "      <td>0.046632</td>\n",
       "    </tr>\n",
       "    <tr>\n",
       "      <th>lsa</th>\n",
       "      <td>0.046632</td>\n",
       "      <td>0.046632</td>\n",
       "      <td>0.046632</td>\n",
       "    </tr>\n",
       "    <tr>\n",
       "      <th>tfidf</th>\n",
       "      <td>0.046008</td>\n",
       "      <td>0.046008</td>\n",
       "      <td>0.046008</td>\n",
       "    </tr>\n",
       "    <tr>\n",
       "      <th>reduction</th>\n",
       "      <td>0.519916</td>\n",
       "      <td>0.519916</td>\n",
       "      <td>0.519916</td>\n",
       "    </tr>\n",
       "  </tbody>\n",
       "</table>\n",
       "</div>"
      ],
      "text/plain": [
       "           precision_L  recall_L  f1_score_L\n",
       "text_rank     0.046632  0.046632    0.046632\n",
       "lsa           0.046632  0.046632    0.046632\n",
       "tfidf         0.046008  0.046008    0.046008\n",
       "reduction     0.519916  0.519916    0.519916"
      ]
     },
     "execution_count": 192,
     "metadata": {},
     "output_type": "execute_result"
    }
   ],
   "source": [
    "eval_res.head()"
   ]
  },
  {
   "cell_type": "code",
   "execution_count": 193,
   "metadata": {},
   "outputs": [
    {
     "data": {
      "text/plain": [
       "<Axes: >"
      ]
     },
     "execution_count": 193,
     "metadata": {},
     "output_type": "execute_result"
    },
    {
     "data": {
      "image/png": "[encoded data removed]",
      "text/plain": [
       "<Figure size 640x480 with 1 Axes>"
      ]
     },
     "metadata": {},
     "output_type": "display_data"
    }
   ],
   "source": [
    "eval_res.plot.bar()"
   ]
  },
  {
   "cell_type": "code",
   "execution_count": 194,
   "metadata": {},
   "outputs": [],
   "source": [
    "#visualize distribution of original text and summarizations "
   ]
  },
  {
   "cell_type": "code",
   "execution_count": 201,
   "metadata": {},
   "outputs": [],
   "source": [
    "count_words = lambda text : len(text.split())\n",
    "data_counts = {}\n",
    "for col in results.columns:\n",
    "    data_counts[col] = results[col].apply(count_words).values"
   ]
  },
  {
   "cell_type": "code",
   "execution_count": 202,
   "metadata": {},
   "outputs": [
    {
     "data": {
      "text/plain": [
       "{'text': array([284, 367,  51, ..., 921, 213, 301], dtype=int64),\n",
       " 'tfidf_summy': array([112, 105,  51, ..., 110,  74,  91], dtype=int64),\n",
       " 'lsa_summy': array([ 60,  93,  51, ..., 684,  91,  64], dtype=int64),\n",
       " 'text_rank_summy': array([ 60,  93,  51, ..., 684,  91,  64], dtype=int64),\n",
       " 'reduction_summy': array([ 72, 109,  51, ..., 683,  91,  45], dtype=int64)}"
      ]
     },
     "execution_count": 202,
     "metadata": {},
     "output_type": "execute_result"
    }
   ],
   "source": [
    "data_counts"
   ]
  },
  {
   "cell_type": "code",
   "execution_count": 204,
   "metadata": {},
   "outputs": [
    {
     "data": {
      "image/png": "[encoded data removed]",
      "text/plain": [
       "<Figure size 500x1500 with 5 Axes>"
      ]
     },
     "metadata": {},
     "output_type": "display_data"
    }
   ],
   "source": [
    "fig , axes = plt.subplots(5 , 1 , figsize=(5, 15) , sharex=True)\n",
    "\n",
    "for ax , col in zip(axes.flatten() , results.columns):\n",
    "    ax.hist(data_counts[col])\n",
    "    ax.set_title(f\"distribution of {col}\")"
   ]
  },
  {
   "cell_type": "code",
   "execution_count": null,
   "metadata": {},
   "outputs": [],
   "source": []
  }
 ],
 "metadata": {
  "kernelspec": {
   "display_name": "base",
   "language": "python",
   "name": "python3"
  },
  "language_info": {
   "codemirror_mode": {
    "name": "ipython",
    "version": 3
   },
   "file_extension": ".py",
   "mimetype": "text/x-python",
   "name": "python",
   "nbconvert_exporter": "python",
   "pygments_lexer": "ipython3",
   "version": "3.10.13"
  }
 },
 "nbformat": 4,
 "nbformat_minor": 2
}
